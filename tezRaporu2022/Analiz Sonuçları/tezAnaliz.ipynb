{
 "cells": [
  {
   "cell_type": "code",
   "execution_count": 1,
   "metadata": {},
   "outputs": [],
   "source": [
    "import io\n",
    "import random\n",
    "import string\n",
    "import warnings\n",
    "import pandas as pd\n",
    "import numpy as np\n",
    "import warnings\n",
    "warnings.filterwarnings('ignore')\n",
    "\n",
    "# Veri Görselleştirme\n",
    "import matplotlib\n",
    "from matplotlib import pyplot as plt\n",
    "import matplotlib.style as style\n",
    "from matplotlib import ticker\n",
    "import seaborn as sns\n",
    "import pickle\n",
    "import plotly.express as px\n",
    "import plotly.graph_objects as go\n",
    "from plotly.subplots import make_subplots\n",
    "from collections import Counter\n",
    "\n",
    "# python kütüphaneleri\n",
    "import re\n",
    "import json\n",
    "import os\n",
    "from collections import Counter\n",
    "import datetime as dt"
   ]
  },
  {
   "cell_type": "markdown",
   "metadata": {},
   "source": [
    "1.Temizlenmiş Verinin Yüklenmesi"
   ]
  },
  {
   "cell_type": "code",
   "execution_count": 2,
   "metadata": {},
   "outputs": [
    {
     "data": {
      "text/html": [
       "<div>\n",
       "<style scoped>\n",
       "    .dataframe tbody tr th:only-of-type {\n",
       "        vertical-align: middle;\n",
       "    }\n",
       "\n",
       "    .dataframe tbody tr th {\n",
       "        vertical-align: top;\n",
       "    }\n",
       "\n",
       "    .dataframe thead th {\n",
       "        text-align: right;\n",
       "    }\n",
       "</style>\n",
       "<table border=\"1\" class=\"dataframe\">\n",
       "  <thead>\n",
       "    <tr style=\"text-align: right;\">\n",
       "      <th></th>\n",
       "      <th>category</th>\n",
       "      <th>date</th>\n",
       "      <th>clean_text</th>\n",
       "      <th>subreddit</th>\n",
       "    </tr>\n",
       "  </thead>\n",
       "  <tbody>\n",
       "    <tr>\n",
       "      <th>393562</th>\n",
       "      <td>vaccine</td>\n",
       "      <td>26/06/2021</td>\n",
       "      <td>people who blindly defend countries and leader...</td>\n",
       "      <td>vaxxhappened</td>\n",
       "    </tr>\n",
       "    <tr>\n",
       "      <th>477323</th>\n",
       "      <td>vaccine</td>\n",
       "      <td>29/08/2021</td>\n",
       "      <td>i would anyone want to travel to another count...</td>\n",
       "      <td>vaxxhappened</td>\n",
       "    </tr>\n",
       "    <tr>\n",
       "      <th>404922</th>\n",
       "      <td>vaccine</td>\n",
       "      <td>13/06/2021</td>\n",
       "      <td>no shit all anxiety based im certainly not goi...</td>\n",
       "      <td>CovidVaccinated</td>\n",
       "    </tr>\n",
       "    <tr>\n",
       "      <th>104319</th>\n",
       "      <td>vaccine</td>\n",
       "      <td>10/04/2020</td>\n",
       "      <td>same i am a christian too its so dumb</td>\n",
       "      <td>vaxxhappened</td>\n",
       "    </tr>\n",
       "    <tr>\n",
       "      <th>355501</th>\n",
       "      <td>vaccine</td>\n",
       "      <td>01/05/2021</td>\n",
       "      <td>day any help for these headaches</td>\n",
       "      <td>CovidVaccinated</td>\n",
       "    </tr>\n",
       "  </tbody>\n",
       "</table>\n",
       "</div>"
      ],
      "text/plain": [
       "       category        date  \\\n",
       "393562  vaccine  26/06/2021   \n",
       "477323  vaccine  29/08/2021   \n",
       "404922  vaccine  13/06/2021   \n",
       "104319  vaccine  10/04/2020   \n",
       "355501  vaccine  01/05/2021   \n",
       "\n",
       "                                               clean_text        subreddit  \n",
       "393562  people who blindly defend countries and leader...     vaxxhappened  \n",
       "477323  i would anyone want to travel to another count...     vaxxhappened  \n",
       "404922  no shit all anxiety based im certainly not goi...  CovidVaccinated  \n",
       "104319              same i am a christian too its so dumb     vaxxhappened  \n",
       "355501                   day any help for these headaches  CovidVaccinated  "
      ]
     },
     "execution_count": 2,
     "metadata": {},
     "output_type": "execute_result"
    }
   ],
   "source": [
    "data=pd.read_csv(\"D:/ayhanSelimSoftwareOrganization/data/allCleanData.csv\")\n",
    "clean_data=data[[\"category\",\"date\",\"clean_text\",\"subreddit\"]]\n",
    "clean_data.sample(5)"
   ]
  },
  {
   "cell_type": "markdown",
   "metadata": {},
   "source": [
    "2.Sentiment Etiketlenmiş Veri ile ilgili Analizler"
   ]
  },
  {
   "cell_type": "code",
   "execution_count": 4,
   "metadata": {},
   "outputs": [
    {
     "data": {
      "text/html": [
       "<div>\n",
       "<style scoped>\n",
       "    .dataframe tbody tr th:only-of-type {\n",
       "        vertical-align: middle;\n",
       "    }\n",
       "\n",
       "    .dataframe tbody tr th {\n",
       "        vertical-align: top;\n",
       "    }\n",
       "\n",
       "    .dataframe thead th {\n",
       "        text-align: right;\n",
       "    }\n",
       "</style>\n",
       "<table border=\"1\" class=\"dataframe\">\n",
       "  <thead>\n",
       "    <tr style=\"text-align: right;\">\n",
       "      <th></th>\n",
       "      <th>category</th>\n",
       "      <th>date</th>\n",
       "      <th>clean_text</th>\n",
       "      <th>subreddit</th>\n",
       "      <th>sentiment_score</th>\n",
       "      <th>sentiment</th>\n",
       "    </tr>\n",
       "  </thead>\n",
       "  <tbody>\n",
       "    <tr>\n",
       "      <th>54749</th>\n",
       "      <td>vaccine</td>\n",
       "      <td>03/02/2020</td>\n",
       "      <td>ok but if you trust a surgeon to with a broken...</td>\n",
       "      <td>DebateVaccines</td>\n",
       "      <td>-0.3925</td>\n",
       "      <td>negative</td>\n",
       "    </tr>\n",
       "    <tr>\n",
       "      <th>430471</th>\n",
       "      <td>vaccine</td>\n",
       "      <td>01/06/2021</td>\n",
       "      <td>i would really like to know the answer to this...</td>\n",
       "      <td>CovidVaccinated</td>\n",
       "      <td>0.8166</td>\n",
       "      <td>positive</td>\n",
       "    </tr>\n",
       "    <tr>\n",
       "      <th>416429</th>\n",
       "      <td>vaccine</td>\n",
       "      <td>27/06/2021</td>\n",
       "      <td>mine have been swollen for like months</td>\n",
       "      <td>CovidVaccinated</td>\n",
       "      <td>0.3612</td>\n",
       "      <td>positive</td>\n",
       "    </tr>\n",
       "    <tr>\n",
       "      <th>235690</th>\n",
       "      <td>vaccine</td>\n",
       "      <td>01/10/2020</td>\n",
       "      <td>there are only two words you will ever need fo...</td>\n",
       "      <td>VACCINES</td>\n",
       "      <td>0.7184</td>\n",
       "      <td>positive</td>\n",
       "    </tr>\n",
       "    <tr>\n",
       "      <th>323675</th>\n",
       "      <td>vaccine</td>\n",
       "      <td>04/03/2021</td>\n",
       "      <td>benzos are safe with the vaccine im a nurse wh...</td>\n",
       "      <td>CovidVaccinated</td>\n",
       "      <td>0.8074</td>\n",
       "      <td>positive</td>\n",
       "    </tr>\n",
       "  </tbody>\n",
       "</table>\n",
       "</div>"
      ],
      "text/plain": [
       "       category        date  \\\n",
       "54749   vaccine  03/02/2020   \n",
       "430471  vaccine  01/06/2021   \n",
       "416429  vaccine  27/06/2021   \n",
       "235690  vaccine  01/10/2020   \n",
       "323675  vaccine  04/03/2021   \n",
       "\n",
       "                                               clean_text        subreddit  \\\n",
       "54749   ok but if you trust a surgeon to with a broken...   DebateVaccines   \n",
       "430471  i would really like to know the answer to this...  CovidVaccinated   \n",
       "416429             mine have been swollen for like months  CovidVaccinated   \n",
       "235690  there are only two words you will ever need fo...         VACCINES   \n",
       "323675  benzos are safe with the vaccine im a nurse wh...  CovidVaccinated   \n",
       "\n",
       "        sentiment_score sentiment  \n",
       "54749           -0.3925  negative  \n",
       "430471           0.8166  positive  \n",
       "416429           0.3612  positive  \n",
       "235690           0.7184  positive  \n",
       "323675           0.8074  positive  "
      ]
     },
     "execution_count": 4,
     "metadata": {},
     "output_type": "execute_result"
    }
   ],
   "source": [
    "data=pd.read_csv(\"D:/ayhanSelimSoftwareOrganization/data/allSentimentVaderData.csv\", sep=\";\")\n",
    "sentiment_data=data[[\"category\",\"date\",\"clean_text\",\"subreddit\",\"sentiment_score\",\"sentiment\"]]\n",
    "sentiment_data.sample(5)"
   ]
  },
  {
   "cell_type": "code",
   "execution_count": 5,
   "metadata": {},
   "outputs": [
    {
     "data": {
      "text/html": [
       "<div>\n",
       "<style scoped>\n",
       "    .dataframe tbody tr th:only-of-type {\n",
       "        vertical-align: middle;\n",
       "    }\n",
       "\n",
       "    .dataframe tbody tr th {\n",
       "        vertical-align: top;\n",
       "    }\n",
       "\n",
       "    .dataframe thead th {\n",
       "        text-align: right;\n",
       "    }\n",
       "</style>\n",
       "<table border=\"1\" class=\"dataframe\">\n",
       "  <thead>\n",
       "    <tr style=\"text-align: right;\">\n",
       "      <th></th>\n",
       "      <th>sentiment</th>\n",
       "      <th>sentiment_count</th>\n",
       "    </tr>\n",
       "  </thead>\n",
       "  <tbody>\n",
       "    <tr>\n",
       "      <th>0</th>\n",
       "      <td>negative</td>\n",
       "      <td>233825</td>\n",
       "    </tr>\n",
       "    <tr>\n",
       "      <th>1</th>\n",
       "      <td>neutral</td>\n",
       "      <td>124214</td>\n",
       "    </tr>\n",
       "    <tr>\n",
       "      <th>2</th>\n",
       "      <td>positive</td>\n",
       "      <td>253076</td>\n",
       "    </tr>\n",
       "  </tbody>\n",
       "</table>\n",
       "</div>"
      ],
      "text/plain": [
       "  sentiment  sentiment_count\n",
       "0  negative           233825\n",
       "1   neutral           124214\n",
       "2  positive           253076"
      ]
     },
     "execution_count": 5,
     "metadata": {},
     "output_type": "execute_result"
    }
   ],
   "source": [
    "sentiment_labels=sentiment_data.groupby(['sentiment']).size().reset_index(name='sentiment_count')\n",
    "sentiment_labels"
   ]
  },
  {
   "cell_type": "code",
   "execution_count": 6,
   "metadata": {},
   "outputs": [
    {
     "data": {
      "text/html": [
       "<div>\n",
       "<style scoped>\n",
       "    .dataframe tbody tr th:only-of-type {\n",
       "        vertical-align: middle;\n",
       "    }\n",
       "\n",
       "    .dataframe tbody tr th {\n",
       "        vertical-align: top;\n",
       "    }\n",
       "\n",
       "    .dataframe thead th {\n",
       "        text-align: right;\n",
       "    }\n",
       "</style>\n",
       "<table border=\"1\" class=\"dataframe\">\n",
       "  <thead>\n",
       "    <tr style=\"text-align: right;\">\n",
       "      <th></th>\n",
       "      <th>sentiment</th>\n",
       "      <th>sentiment_count</th>\n",
       "      <th>sentiment_percentage</th>\n",
       "    </tr>\n",
       "  </thead>\n",
       "  <tbody>\n",
       "    <tr>\n",
       "      <th>0</th>\n",
       "      <td>negative</td>\n",
       "      <td>233825</td>\n",
       "      <td>38.26</td>\n",
       "    </tr>\n",
       "    <tr>\n",
       "      <th>1</th>\n",
       "      <td>neutral</td>\n",
       "      <td>124214</td>\n",
       "      <td>20.32</td>\n",
       "    </tr>\n",
       "    <tr>\n",
       "      <th>2</th>\n",
       "      <td>positive</td>\n",
       "      <td>253076</td>\n",
       "      <td>41.41</td>\n",
       "    </tr>\n",
       "  </tbody>\n",
       "</table>\n",
       "</div>"
      ],
      "text/plain": [
       "  sentiment  sentiment_count  sentiment_percentage\n",
       "0  negative           233825                 38.26\n",
       "1   neutral           124214                 20.32\n",
       "2  positive           253076                 41.41"
      ]
     },
     "execution_count": 6,
     "metadata": {},
     "output_type": "execute_result"
    }
   ],
   "source": [
    "sentiment_labels[\"sentiment_percentage\"]=sentiment_labels[\"sentiment_count\"].apply(lambda x: round(x/sentiment_data.shape[0],4)*100)\n",
    "sentiment_labels"
   ]
  },
  {
   "cell_type": "code",
   "execution_count": 7,
   "metadata": {},
   "outputs": [
    {
     "data": {
      "image/png": "[encoded data removed]",
      "text/plain": [
       "<Figure size 432x288 with 1 Axes>"
      ]
     },
     "metadata": {
      "needs_background": "light"
     },
     "output_type": "display_data"
    }
   ],
   "source": [
    "sns.set_theme(style=\"whitegrid\")\n",
    "ax = sns.barplot(x=\"sentiment\", y=\"sentiment_percentage\", data=sentiment_labels)"
   ]
  },
  {
   "cell_type": "markdown",
   "metadata": {},
   "source": [
    "3.Emotion Etiketlenmiş Veri ile ilgili Analizler"
   ]
  },
  {
   "cell_type": "code",
   "execution_count": 8,
   "metadata": {},
   "outputs": [
    {
     "data": {
      "text/html": [
       "<div>\n",
       "<style scoped>\n",
       "    .dataframe tbody tr th:only-of-type {\n",
       "        vertical-align: middle;\n",
       "    }\n",
       "\n",
       "    .dataframe tbody tr th {\n",
       "        vertical-align: top;\n",
       "    }\n",
       "\n",
       "    .dataframe thead th {\n",
       "        text-align: right;\n",
       "    }\n",
       "</style>\n",
       "<table border=\"1\" class=\"dataframe\">\n",
       "  <thead>\n",
       "    <tr style=\"text-align: right;\">\n",
       "      <th></th>\n",
       "      <th>id</th>\n",
       "      <th>date</th>\n",
       "      <th>text</th>\n",
       "      <th>emotion</th>\n",
       "    </tr>\n",
       "  </thead>\n",
       "  <tbody>\n",
       "    <tr>\n",
       "      <th>324347</th>\n",
       "      <td>gqcfmi1</td>\n",
       "      <td>09/03/2021</td>\n",
       "      <td>yes both taken daily as usual</td>\n",
       "      <td>joy</td>\n",
       "    </tr>\n",
       "    <tr>\n",
       "      <th>42821</th>\n",
       "      <td>fhx8mls</td>\n",
       "      <td>17/02/2020</td>\n",
       "      <td>me too i love it</td>\n",
       "      <td>surprise</td>\n",
       "    </tr>\n",
       "    <tr>\n",
       "      <th>526637</th>\n",
       "      <td>he2alz3</td>\n",
       "      <td>24/09/2021</td>\n",
       "      <td>i dont think he can as i am sure his new book ...</td>\n",
       "      <td>fear</td>\n",
       "    </tr>\n",
       "    <tr>\n",
       "      <th>118756</th>\n",
       "      <td>fmfpcgg</td>\n",
       "      <td>04/04/2020</td>\n",
       "      <td>measles measles is a highly contagious infecti...</td>\n",
       "      <td>fear</td>\n",
       "    </tr>\n",
       "    <tr>\n",
       "      <th>151893</th>\n",
       "      <td>fqoyvbt</td>\n",
       "      <td>15/05/2020</td>\n",
       "      <td>do you have any source for you claims about th...</td>\n",
       "      <td>fear</td>\n",
       "    </tr>\n",
       "  </tbody>\n",
       "</table>\n",
       "</div>"
      ],
      "text/plain": [
       "             id        date  \\\n",
       "324347  gqcfmi1  09/03/2021   \n",
       "42821   fhx8mls  17/02/2020   \n",
       "526637  he2alz3  24/09/2021   \n",
       "118756  fmfpcgg  04/04/2020   \n",
       "151893  fqoyvbt  15/05/2020   \n",
       "\n",
       "                                                     text   emotion  \n",
       "324347                      yes both taken daily as usual       joy  \n",
       "42821                                    me too i love it  surprise  \n",
       "526637  i dont think he can as i am sure his new book ...      fear  \n",
       "118756  measles measles is a highly contagious infecti...      fear  \n",
       "151893  do you have any source for you claims about th...      fear  "
      ]
     },
     "execution_count": 8,
     "metadata": {},
     "output_type": "execute_result"
    }
   ],
   "source": [
    "emotion_data=pd.read_csv(\"D:/ayhanSelimSoftwareOrganization/data/allEmotionsparkNLPData.csv\")\n",
    "emotion_data.sample(5)"
   ]
  },
  {
   "cell_type": "code",
   "execution_count": 9,
   "metadata": {},
   "outputs": [
    {
     "data": {
      "text/html": [
       "<div>\n",
       "<style scoped>\n",
       "    .dataframe tbody tr th:only-of-type {\n",
       "        vertical-align: middle;\n",
       "    }\n",
       "\n",
       "    .dataframe tbody tr th {\n",
       "        vertical-align: top;\n",
       "    }\n",
       "\n",
       "    .dataframe thead th {\n",
       "        text-align: right;\n",
       "    }\n",
       "</style>\n",
       "<table border=\"1\" class=\"dataframe\">\n",
       "  <thead>\n",
       "    <tr style=\"text-align: right;\">\n",
       "      <th></th>\n",
       "      <th>emotion</th>\n",
       "      <th>emotion_count</th>\n",
       "    </tr>\n",
       "  </thead>\n",
       "  <tbody>\n",
       "    <tr>\n",
       "      <th>0</th>\n",
       "      <td>fear</td>\n",
       "      <td>318058</td>\n",
       "    </tr>\n",
       "    <tr>\n",
       "      <th>1</th>\n",
       "      <td>joy</td>\n",
       "      <td>104817</td>\n",
       "    </tr>\n",
       "    <tr>\n",
       "      <th>2</th>\n",
       "      <td>sadness</td>\n",
       "      <td>92509</td>\n",
       "    </tr>\n",
       "    <tr>\n",
       "      <th>3</th>\n",
       "      <td>surprise</td>\n",
       "      <td>95410</td>\n",
       "    </tr>\n",
       "  </tbody>\n",
       "</table>\n",
       "</div>"
      ],
      "text/plain": [
       "    emotion  emotion_count\n",
       "0      fear         318058\n",
       "1       joy         104817\n",
       "2   sadness          92509\n",
       "3  surprise          95410"
      ]
     },
     "execution_count": 9,
     "metadata": {},
     "output_type": "execute_result"
    }
   ],
   "source": [
    "emotion_labels=emotion_data.groupby(['emotion']).size().reset_index(name='emotion_count')\n",
    "emotion_labels"
   ]
  },
  {
   "cell_type": "code",
   "execution_count": 10,
   "metadata": {},
   "outputs": [
    {
     "data": {
      "text/html": [
       "<div>\n",
       "<style scoped>\n",
       "    .dataframe tbody tr th:only-of-type {\n",
       "        vertical-align: middle;\n",
       "    }\n",
       "\n",
       "    .dataframe tbody tr th {\n",
       "        vertical-align: top;\n",
       "    }\n",
       "\n",
       "    .dataframe thead th {\n",
       "        text-align: right;\n",
       "    }\n",
       "</style>\n",
       "<table border=\"1\" class=\"dataframe\">\n",
       "  <thead>\n",
       "    <tr style=\"text-align: right;\">\n",
       "      <th></th>\n",
       "      <th>emotion</th>\n",
       "      <th>emotion_count</th>\n",
       "      <th>emotion_percentage</th>\n",
       "    </tr>\n",
       "  </thead>\n",
       "  <tbody>\n",
       "    <tr>\n",
       "      <th>0</th>\n",
       "      <td>fear</td>\n",
       "      <td>318058</td>\n",
       "      <td>52.07</td>\n",
       "    </tr>\n",
       "    <tr>\n",
       "      <th>1</th>\n",
       "      <td>joy</td>\n",
       "      <td>104817</td>\n",
       "      <td>17.16</td>\n",
       "    </tr>\n",
       "    <tr>\n",
       "      <th>2</th>\n",
       "      <td>sadness</td>\n",
       "      <td>92509</td>\n",
       "      <td>15.15</td>\n",
       "    </tr>\n",
       "    <tr>\n",
       "      <th>3</th>\n",
       "      <td>surprise</td>\n",
       "      <td>95410</td>\n",
       "      <td>15.62</td>\n",
       "    </tr>\n",
       "  </tbody>\n",
       "</table>\n",
       "</div>"
      ],
      "text/plain": [
       "    emotion  emotion_count  emotion_percentage\n",
       "0      fear         318058               52.07\n",
       "1       joy         104817               17.16\n",
       "2   sadness          92509               15.15\n",
       "3  surprise          95410               15.62"
      ]
     },
     "execution_count": 10,
     "metadata": {},
     "output_type": "execute_result"
    }
   ],
   "source": [
    "emotion_labels[\"emotion_percentage\"]=emotion_labels[\"emotion_count\"].apply(lambda x: round(x/emotion_data.shape[0],4)*100)\n",
    "emotion_labels"
   ]
  },
  {
   "cell_type": "code",
   "execution_count": 11,
   "metadata": {},
   "outputs": [
    {
     "data": {
      "image/png": "[encoded data removed]",
      "text/plain": [
       "<Figure size 432x288 with 1 Axes>"
      ]
     },
     "metadata": {},
     "output_type": "display_data"
    }
   ],
   "source": [
    "sns.set_theme(style=\"whitegrid\")\n",
    "ax = sns.barplot(x=\"emotion\", y=\"emotion_percentage\", data=emotion_labels)"
   ]
  },
  {
   "cell_type": "markdown",
   "metadata": {},
   "source": [
    "4. 3 Sınıflı Duygulara ilişkin Aşı ve Aşı Markaları Analizi"
   ]
  },
  {
   "cell_type": "code",
   "execution_count": 14,
   "metadata": {},
   "outputs": [
    {
     "data": {
      "text/plain": [
       "0"
      ]
     },
     "execution_count": 14,
     "metadata": {},
     "output_type": "execute_result"
    }
   ],
   "source": [
    "sentiment_data.dropna(subset=[\"clean_text\"],inplace=True)\n",
    "sentiment_data[\"clean_text\"].isnull().sum()"
   ]
  },
  {
   "cell_type": "code",
   "execution_count": 15,
   "metadata": {},
   "outputs": [],
   "source": [
    "vaccine=sentiment_data[sentiment_data[\"clean_text\"].str.contains(\"vaccine|Vaccine|covid19 vaccine\")]\n",
    "pfizer_biontech=sentiment_data[sentiment_data[\"clean_text\"].str.contains(\"pfizer|biontech|Pfizer|Biontech\")]\n",
    "sinovac_coronavac=sentiment_data[sentiment_data[\"clean_text\"].str.contains(\"sinovac|coronavac|Sinovac|Coronavac\")]\n",
    "moderna=sentiment_data[sentiment_data[\"clean_text\"].str.contains(\"moderna|Moderna\")]\n",
    "astrazeneca=sentiment_data[sentiment_data[\"clean_text\"].str.contains(\"astrazeneca|Astrazeneca\")]\n",
    "sputnik_V=sentiment_data[sentiment_data[\"clean_text\"].str.contains(\"sputnik_V|Sputnik_V|sputnik\")]"
   ]
  },
  {
   "cell_type": "code",
   "execution_count": 16,
   "metadata": {},
   "outputs": [
    {
     "data": {
      "text/html": [
       "<div>\n",
       "<style scoped>\n",
       "    .dataframe tbody tr th:only-of-type {\n",
       "        vertical-align: middle;\n",
       "    }\n",
       "\n",
       "    .dataframe tbody tr th {\n",
       "        vertical-align: top;\n",
       "    }\n",
       "\n",
       "    .dataframe thead th {\n",
       "        text-align: right;\n",
       "    }\n",
       "</style>\n",
       "<table border=\"1\" class=\"dataframe\">\n",
       "  <thead>\n",
       "    <tr style=\"text-align: right;\">\n",
       "      <th></th>\n",
       "      <th>comment_count</th>\n",
       "    </tr>\n",
       "  </thead>\n",
       "  <tbody>\n",
       "    <tr>\n",
       "      <th>vaccine</th>\n",
       "      <td>113120</td>\n",
       "    </tr>\n",
       "    <tr>\n",
       "      <th>pfizer_biontech</th>\n",
       "      <td>14432</td>\n",
       "    </tr>\n",
       "    <tr>\n",
       "      <th>coronavac</th>\n",
       "      <td>207</td>\n",
       "    </tr>\n",
       "    <tr>\n",
       "      <th>moderna</th>\n",
       "      <td>9524</td>\n",
       "    </tr>\n",
       "    <tr>\n",
       "      <th>astrazeneca</th>\n",
       "      <td>855</td>\n",
       "    </tr>\n",
       "    <tr>\n",
       "      <th>sputnik_V</th>\n",
       "      <td>135</td>\n",
       "    </tr>\n",
       "  </tbody>\n",
       "</table>\n",
       "</div>"
      ],
      "text/plain": [
       "                 comment_count\n",
       "vaccine                 113120\n",
       "pfizer_biontech          14432\n",
       "coronavac                  207\n",
       "moderna                   9524\n",
       "astrazeneca                855\n",
       "sputnik_V                  135"
      ]
     },
     "execution_count": 16,
     "metadata": {},
     "output_type": "execute_result"
    }
   ],
   "source": [
    "vaccine_list=[len(vaccine),len(pfizer_biontech),len(sinovac_coronavac),len(moderna),len(astrazeneca),len(sputnik_V)]\n",
    "vaccine_numbers=pd.DataFrame(vaccine_list,index=[\"vaccine\",\"pfizer_biontech\",\"coronavac\",\"moderna\",\"astrazeneca\",\"sputnik_V\"],columns=[\"comment_count\"])\n",
    "vaccine_numbers"
   ]
  },
  {
   "cell_type": "code",
   "execution_count": 19,
   "metadata": {},
   "outputs": [],
   "source": [
    "vaccine_size=vaccine.groupby(['sentiment']).size().reset_index(name='comment_count')\n",
    "pfizer_biontech_size=pfizer_biontech.groupby(['sentiment']).size().reset_index(name='comment_count')\n",
    "sinovac_coronavac_size=sinovac_coronavac.groupby(['sentiment']).size().reset_index(name='comment_count')\n",
    "moderna_size=moderna.groupby(['sentiment']).size().reset_index(name='comment_count')\n",
    "astrazeneca_size=astrazeneca.groupby(['sentiment']).size().reset_index(name='comment_count')\n",
    "sputnik_size=sputnik_V.groupby(['sentiment']).size().reset_index(name='comment_count')"
   ]
  },
  {
   "cell_type": "code",
   "execution_count": 20,
   "metadata": {},
   "outputs": [
    {
     "data": {
      "text/html": [
       "<div>\n",
       "<style scoped>\n",
       "    .dataframe tbody tr th:only-of-type {\n",
       "        vertical-align: middle;\n",
       "    }\n",
       "\n",
       "    .dataframe tbody tr th {\n",
       "        vertical-align: top;\n",
       "    }\n",
       "\n",
       "    .dataframe thead th {\n",
       "        text-align: right;\n",
       "    }\n",
       "</style>\n",
       "<table border=\"1\" class=\"dataframe\">\n",
       "  <thead>\n",
       "    <tr style=\"text-align: right;\">\n",
       "      <th></th>\n",
       "      <th>sentiment</th>\n",
       "      <th>comment_count</th>\n",
       "      <th>comment_percentage</th>\n",
       "    </tr>\n",
       "  </thead>\n",
       "  <tbody>\n",
       "    <tr>\n",
       "      <th>0</th>\n",
       "      <td>negative</td>\n",
       "      <td>52725</td>\n",
       "      <td>46.61</td>\n",
       "    </tr>\n",
       "    <tr>\n",
       "      <th>1</th>\n",
       "      <td>neutral</td>\n",
       "      <td>10638</td>\n",
       "      <td>9.40</td>\n",
       "    </tr>\n",
       "    <tr>\n",
       "      <th>2</th>\n",
       "      <td>positive</td>\n",
       "      <td>49754</td>\n",
       "      <td>43.98</td>\n",
       "    </tr>\n",
       "  </tbody>\n",
       "</table>\n",
       "</div>"
      ],
      "text/plain": [
       "  sentiment  comment_count  comment_percentage\n",
       "0  negative          52725               46.61\n",
       "1   neutral          10638                9.40\n",
       "2  positive          49754               43.98"
      ]
     },
     "execution_count": 20,
     "metadata": {},
     "output_type": "execute_result"
    }
   ],
   "source": [
    "vaccine_size['comment_percentage'] = vaccine_size['comment_count'].apply(lambda x: round(x / vaccine.shape[0],4) * 100)\n",
    "vaccine_size"
   ]
  },
  {
   "cell_type": "code",
   "execution_count": 41,
   "metadata": {},
   "outputs": [
    {
     "data": {
      "text/plain": [
       "Text(0, 0.5, 'Aşı Kavramı ile ile ilgili Duygu Yüzdeleri')"
      ]
     },
     "execution_count": 41,
     "metadata": {},
     "output_type": "execute_result"
    },
    {
     "data": {
      "image/png": "[encoded data removed]",
      "text/plain": [
       "<Figure size 432x288 with 1 Axes>"
      ]
     },
     "metadata": {},
     "output_type": "display_data"
    }
   ],
   "source": [
    "sns.set_theme(style=\"whitegrid\")\n",
    "ax = sns.barplot(x=\"sentiment\", y=\"comment_percentage\", data=vaccine_size)\n",
    "ax.set_xlabel(\"Aşı Kavramı ile ile ilgili Duygular\")\n",
    "ax.set_ylabel(\"Aşı Kavramı ile ile ilgili Duygu Yüzdeleri\")"
   ]
  },
  {
   "cell_type": "code",
   "execution_count": 26,
   "metadata": {},
   "outputs": [
    {
     "data": {
      "text/html": [
       "<div>\n",
       "<style scoped>\n",
       "    .dataframe tbody tr th:only-of-type {\n",
       "        vertical-align: middle;\n",
       "    }\n",
       "\n",
       "    .dataframe tbody tr th {\n",
       "        vertical-align: top;\n",
       "    }\n",
       "\n",
       "    .dataframe thead th {\n",
       "        text-align: right;\n",
       "    }\n",
       "</style>\n",
       "<table border=\"1\" class=\"dataframe\">\n",
       "  <thead>\n",
       "    <tr style=\"text-align: right;\">\n",
       "      <th></th>\n",
       "      <th>sentiment</th>\n",
       "      <th>comment_count</th>\n",
       "      <th>comment_percentage</th>\n",
       "    </tr>\n",
       "  </thead>\n",
       "  <tbody>\n",
       "    <tr>\n",
       "      <th>0</th>\n",
       "      <td>negative</td>\n",
       "      <td>5824</td>\n",
       "      <td>40.35</td>\n",
       "    </tr>\n",
       "    <tr>\n",
       "      <th>1</th>\n",
       "      <td>neutral</td>\n",
       "      <td>1533</td>\n",
       "      <td>10.62</td>\n",
       "    </tr>\n",
       "    <tr>\n",
       "      <th>2</th>\n",
       "      <td>positive</td>\n",
       "      <td>7075</td>\n",
       "      <td>49.02</td>\n",
       "    </tr>\n",
       "  </tbody>\n",
       "</table>\n",
       "</div>"
      ],
      "text/plain": [
       "  sentiment  comment_count  comment_percentage\n",
       "0  negative           5824               40.35\n",
       "1   neutral           1533               10.62\n",
       "2  positive           7075               49.02"
      ]
     },
     "execution_count": 26,
     "metadata": {},
     "output_type": "execute_result"
    }
   ],
   "source": [
    "pfizer_biontech_size['comment_percentage'] = pfizer_biontech_size['comment_count'].apply(lambda x: round(x / pfizer_biontech.shape[0],4) * 100)\n",
    "pfizer_biontech_size"
   ]
  },
  {
   "cell_type": "code",
   "execution_count": 42,
   "metadata": {},
   "outputs": [
    {
     "data": {
      "text/plain": [
       "Text(0, 0.5, 'Biontech Aşısı ile ilgili Duygu Yüzdeleri')"
      ]
     },
     "execution_count": 42,
     "metadata": {},
     "output_type": "execute_result"
    },
    {
     "data": {
      "image/png": "[encoded data removed]",
      "text/plain": [
       "<Figure size 432x288 with 1 Axes>"
      ]
     },
     "metadata": {},
     "output_type": "display_data"
    }
   ],
   "source": [
    "sns.set_theme(style=\"whitegrid\")\n",
    "ax = sns.barplot(x=\"sentiment\", y=\"comment_percentage\", data=pfizer_biontech_size)\n",
    "ax.set_xlabel(\"Biontech Aşısı ile ilgili Duygular\")\n",
    "ax.set_ylabel(\"Biontech Aşısı ile ilgili Duygu Yüzdeleri\")"
   ]
  },
  {
   "cell_type": "code",
   "execution_count": 28,
   "metadata": {},
   "outputs": [
    {
     "data": {
      "text/html": [
       "<div>\n",
       "<style scoped>\n",
       "    .dataframe tbody tr th:only-of-type {\n",
       "        vertical-align: middle;\n",
       "    }\n",
       "\n",
       "    .dataframe tbody tr th {\n",
       "        vertical-align: top;\n",
       "    }\n",
       "\n",
       "    .dataframe thead th {\n",
       "        text-align: right;\n",
       "    }\n",
       "</style>\n",
       "<table border=\"1\" class=\"dataframe\">\n",
       "  <thead>\n",
       "    <tr style=\"text-align: right;\">\n",
       "      <th></th>\n",
       "      <th>sentiment</th>\n",
       "      <th>comment_count</th>\n",
       "      <th>comment_percentage</th>\n",
       "    </tr>\n",
       "  </thead>\n",
       "  <tbody>\n",
       "    <tr>\n",
       "      <th>0</th>\n",
       "      <td>negative</td>\n",
       "      <td>73</td>\n",
       "      <td>35.27</td>\n",
       "    </tr>\n",
       "    <tr>\n",
       "      <th>1</th>\n",
       "      <td>neutral</td>\n",
       "      <td>29</td>\n",
       "      <td>14.01</td>\n",
       "    </tr>\n",
       "    <tr>\n",
       "      <th>2</th>\n",
       "      <td>positive</td>\n",
       "      <td>105</td>\n",
       "      <td>50.72</td>\n",
       "    </tr>\n",
       "  </tbody>\n",
       "</table>\n",
       "</div>"
      ],
      "text/plain": [
       "  sentiment  comment_count  comment_percentage\n",
       "0  negative             73               35.27\n",
       "1   neutral             29               14.01\n",
       "2  positive            105               50.72"
      ]
     },
     "execution_count": 28,
     "metadata": {},
     "output_type": "execute_result"
    }
   ],
   "source": [
    "sinovac_coronavac_size['comment_percentage'] = sinovac_coronavac_size['comment_count'].apply(lambda x: round(x / sinovac_coronavac.shape[0],4) * 100)\n",
    "sinovac_coronavac_size"
   ]
  },
  {
   "cell_type": "code",
   "execution_count": 43,
   "metadata": {},
   "outputs": [
    {
     "data": {
      "text/plain": [
       "Text(0, 0.5, 'Sinovac Aşısı ile ilgili Duygu Yüzdeleri')"
      ]
     },
     "execution_count": 43,
     "metadata": {},
     "output_type": "execute_result"
    },
    {
     "data": {
      "image/png": "[encoded data removed]",
      "text/plain": [
       "<Figure size 432x288 with 1 Axes>"
      ]
     },
     "metadata": {},
     "output_type": "display_data"
    }
   ],
   "source": [
    "sns.set_theme(style=\"whitegrid\")\n",
    "ax = sns.barplot(x=\"sentiment\", y=\"comment_percentage\", data=sinovac_coronavac_size)\n",
    "ax.set_xlabel(\"Sinovac Aşısı ile ilgili Duygular\")\n",
    "ax.set_ylabel(\"Sinovac Aşısı ile ilgili Duygu Yüzdeleri\")"
   ]
  },
  {
   "cell_type": "code",
   "execution_count": 31,
   "metadata": {},
   "outputs": [
    {
     "data": {
      "text/html": [
       "<div>\n",
       "<style scoped>\n",
       "    .dataframe tbody tr th:only-of-type {\n",
       "        vertical-align: middle;\n",
       "    }\n",
       "\n",
       "    .dataframe tbody tr th {\n",
       "        vertical-align: top;\n",
       "    }\n",
       "\n",
       "    .dataframe thead th {\n",
       "        text-align: right;\n",
       "    }\n",
       "</style>\n",
       "<table border=\"1\" class=\"dataframe\">\n",
       "  <thead>\n",
       "    <tr style=\"text-align: right;\">\n",
       "      <th></th>\n",
       "      <th>sentiment</th>\n",
       "      <th>comment_count</th>\n",
       "      <th>comment_percentage</th>\n",
       "    </tr>\n",
       "  </thead>\n",
       "  <tbody>\n",
       "    <tr>\n",
       "      <th>0</th>\n",
       "      <td>negative</td>\n",
       "      <td>3788</td>\n",
       "      <td>39.77</td>\n",
       "    </tr>\n",
       "    <tr>\n",
       "      <th>1</th>\n",
       "      <td>neutral</td>\n",
       "      <td>1029</td>\n",
       "      <td>10.80</td>\n",
       "    </tr>\n",
       "    <tr>\n",
       "      <th>2</th>\n",
       "      <td>positive</td>\n",
       "      <td>4707</td>\n",
       "      <td>49.42</td>\n",
       "    </tr>\n",
       "  </tbody>\n",
       "</table>\n",
       "</div>"
      ],
      "text/plain": [
       "  sentiment  comment_count  comment_percentage\n",
       "0  negative           3788               39.77\n",
       "1   neutral           1029               10.80\n",
       "2  positive           4707               49.42"
      ]
     },
     "execution_count": 31,
     "metadata": {},
     "output_type": "execute_result"
    }
   ],
   "source": [
    "moderna_size['comment_percentage'] = moderna_size['comment_count'].apply(lambda x: round(x / moderna.shape[0],4) * 100)\n",
    "moderna_size"
   ]
  },
  {
   "cell_type": "code",
   "execution_count": 40,
   "metadata": {},
   "outputs": [
    {
     "data": {
      "text/plain": [
       "Text(0, 0.5, 'Moderna Aşısı ile ilgili Duygu Yüzdeleri')"
      ]
     },
     "execution_count": 40,
     "metadata": {},
     "output_type": "execute_result"
    },
    {
     "data": {
      "image/png": "[encoded data removed]",
      "text/plain": [
       "<Figure size 432x288 with 1 Axes>"
      ]
     },
     "metadata": {},
     "output_type": "display_data"
    }
   ],
   "source": [
    "sns.set_theme(style=\"whitegrid\")\n",
    "ax = sns.barplot(x=\"sentiment\", y=\"comment_percentage\", data=moderna_size)\n",
    "ax.set_xlabel(\"Moderna Aşısı ile ilgili Duygular\")\n",
    "ax.set_ylabel(\"Moderna Aşısı ile ilgili Duygu Yüzdeleri\")"
   ]
  },
  {
   "cell_type": "markdown",
   "metadata": {},
   "source": [
    "5. 4 Sınıflı Duygulara ilişkin Aşı ve Aşı Markaları Analizi"
   ]
  },
  {
   "cell_type": "code",
   "execution_count": 48,
   "metadata": {},
   "outputs": [
    {
     "data": {
      "text/plain": [
       "0"
      ]
     },
     "execution_count": 48,
     "metadata": {},
     "output_type": "execute_result"
    }
   ],
   "source": [
    "emotion_data.dropna(subset=[\"text\"],inplace=True)\n",
    "emotion_data[\"text\"].isnull().sum()"
   ]
  },
  {
   "cell_type": "code",
   "execution_count": 49,
   "metadata": {},
   "outputs": [],
   "source": [
    "vaccine=emotion_data[emotion_data[\"text\"].str.contains(\"vaccine|Vaccine|covid19 vaccine\")]\n",
    "pfizer_biontech=emotion_data[emotion_data[\"text\"].str.contains(\"pfizer|biontech|Pfizer|Biontech\")]\n",
    "sinovac_coronavac=emotion_data[emotion_data[\"text\"].str.contains(\"sinovac|coronavac|Sinovac|Coronavac\")]\n",
    "moderna=emotion_data[emotion_data[\"text\"].str.contains(\"moderna|Moderna\")]\n",
    "astrazeneca=emotion_data[emotion_data[\"text\"].str.contains(\"astrazeneca|Astrazeneca\")]\n",
    "sputnik_V=emotion_data[emotion_data[\"text\"].str.contains(\"sputnik_V|Sputnik_V|sputnik\")]"
   ]
  },
  {
   "cell_type": "code",
   "execution_count": 50,
   "metadata": {},
   "outputs": [
    {
     "data": {
      "text/html": [
       "<div>\n",
       "<style scoped>\n",
       "    .dataframe tbody tr th:only-of-type {\n",
       "        vertical-align: middle;\n",
       "    }\n",
       "\n",
       "    .dataframe tbody tr th {\n",
       "        vertical-align: top;\n",
       "    }\n",
       "\n",
       "    .dataframe thead th {\n",
       "        text-align: right;\n",
       "    }\n",
       "</style>\n",
       "<table border=\"1\" class=\"dataframe\">\n",
       "  <thead>\n",
       "    <tr style=\"text-align: right;\">\n",
       "      <th></th>\n",
       "      <th>comment_count</th>\n",
       "    </tr>\n",
       "  </thead>\n",
       "  <tbody>\n",
       "    <tr>\n",
       "      <th>vaccine</th>\n",
       "      <td>113119</td>\n",
       "    </tr>\n",
       "    <tr>\n",
       "      <th>pfizer_biontech</th>\n",
       "      <td>14432</td>\n",
       "    </tr>\n",
       "    <tr>\n",
       "      <th>coronavac</th>\n",
       "      <td>207</td>\n",
       "    </tr>\n",
       "    <tr>\n",
       "      <th>moderna</th>\n",
       "      <td>9524</td>\n",
       "    </tr>\n",
       "    <tr>\n",
       "      <th>astrazeneca</th>\n",
       "      <td>855</td>\n",
       "    </tr>\n",
       "    <tr>\n",
       "      <th>sputnik_V</th>\n",
       "      <td>135</td>\n",
       "    </tr>\n",
       "  </tbody>\n",
       "</table>\n",
       "</div>"
      ],
      "text/plain": [
       "                 comment_count\n",
       "vaccine                 113119\n",
       "pfizer_biontech          14432\n",
       "coronavac                  207\n",
       "moderna                   9524\n",
       "astrazeneca                855\n",
       "sputnik_V                  135"
      ]
     },
     "execution_count": 50,
     "metadata": {},
     "output_type": "execute_result"
    }
   ],
   "source": [
    "vaccine_list=[len(vaccine),len(pfizer_biontech),len(sinovac_coronavac),len(moderna),len(astrazeneca),len(sputnik_V)]\n",
    "vaccine_numbers=pd.DataFrame(vaccine_list,index=[\"vaccine\",\"pfizer_biontech\",\"coronavac\",\"moderna\",\"astrazeneca\",\"sputnik_V\"],columns=[\"comment_count\"])\n",
    "vaccine_numbers"
   ]
  },
  {
   "cell_type": "code",
   "execution_count": 51,
   "metadata": {},
   "outputs": [],
   "source": [
    "vaccine_size=vaccine.groupby(['emotion']).size().reset_index(name='comment_count')\n",
    "pfizer_biontech_size=pfizer_biontech.groupby(['emotion']).size().reset_index(name='comment_count')\n",
    "sinovac_coronavac_size=sinovac_coronavac.groupby(['emotion']).size().reset_index(name='comment_count')\n",
    "moderna_size=moderna.groupby(['emotion']).size().reset_index(name='comment_count')\n",
    "astrazeneca_size=astrazeneca.groupby(['emotion']).size().reset_index(name='comment_count')\n",
    "sputnik_size=sputnik_V.groupby(['emotion']).size().reset_index(name='comment_count')"
   ]
  },
  {
   "cell_type": "code",
   "execution_count": 52,
   "metadata": {},
   "outputs": [
    {
     "data": {
      "text/html": [
       "<div>\n",
       "<style scoped>\n",
       "    .dataframe tbody tr th:only-of-type {\n",
       "        vertical-align: middle;\n",
       "    }\n",
       "\n",
       "    .dataframe tbody tr th {\n",
       "        vertical-align: top;\n",
       "    }\n",
       "\n",
       "    .dataframe thead th {\n",
       "        text-align: right;\n",
       "    }\n",
       "</style>\n",
       "<table border=\"1\" class=\"dataframe\">\n",
       "  <thead>\n",
       "    <tr style=\"text-align: right;\">\n",
       "      <th></th>\n",
       "      <th>emotion</th>\n",
       "      <th>comment_count</th>\n",
       "      <th>comment_percentage</th>\n",
       "    </tr>\n",
       "  </thead>\n",
       "  <tbody>\n",
       "    <tr>\n",
       "      <th>0</th>\n",
       "      <td>fear</td>\n",
       "      <td>91936</td>\n",
       "      <td>81.27</td>\n",
       "    </tr>\n",
       "    <tr>\n",
       "      <th>1</th>\n",
       "      <td>joy</td>\n",
       "      <td>12350</td>\n",
       "      <td>10.92</td>\n",
       "    </tr>\n",
       "    <tr>\n",
       "      <th>2</th>\n",
       "      <td>sadness</td>\n",
       "      <td>3765</td>\n",
       "      <td>3.33</td>\n",
       "    </tr>\n",
       "    <tr>\n",
       "      <th>3</th>\n",
       "      <td>surprise</td>\n",
       "      <td>5065</td>\n",
       "      <td>4.48</td>\n",
       "    </tr>\n",
       "  </tbody>\n",
       "</table>\n",
       "</div>"
      ],
      "text/plain": [
       "    emotion  comment_count  comment_percentage\n",
       "0      fear          91936               81.27\n",
       "1       joy          12350               10.92\n",
       "2   sadness           3765                3.33\n",
       "3  surprise           5065                4.48"
      ]
     },
     "execution_count": 52,
     "metadata": {},
     "output_type": "execute_result"
    }
   ],
   "source": [
    "vaccine_size['comment_percentage'] = vaccine_size['comment_count'].apply(lambda x: round(x / vaccine.shape[0],4) * 100)\n",
    "vaccine_size"
   ]
  },
  {
   "cell_type": "code",
   "execution_count": 53,
   "metadata": {},
   "outputs": [
    {
     "data": {
      "text/plain": [
       "Text(0, 0.5, 'Aşı Kavramı ile ile ilgili Duygu Yüzdeleri')"
      ]
     },
     "execution_count": 53,
     "metadata": {},
     "output_type": "execute_result"
    },
    {
     "data": {
      "image/png": "[encoded data removed]",
      "text/plain": [
       "<Figure size 432x288 with 1 Axes>"
      ]
     },
     "metadata": {},
     "output_type": "display_data"
    }
   ],
   "source": [
    "sns.set_theme(style=\"whitegrid\")\n",
    "ax = sns.barplot(x=\"emotion\", y=\"comment_percentage\", data=vaccine_size)\n",
    "ax.set_xlabel(\"Aşı Kavramı ile ile ilgili Duygular\")\n",
    "ax.set_ylabel(\"Aşı Kavramı ile ile ilgili Duygu Yüzdeleri\")"
   ]
  },
  {
   "cell_type": "code",
   "execution_count": 54,
   "metadata": {},
   "outputs": [
    {
     "data": {
      "text/html": [
       "<div>\n",
       "<style scoped>\n",
       "    .dataframe tbody tr th:only-of-type {\n",
       "        vertical-align: middle;\n",
       "    }\n",
       "\n",
       "    .dataframe tbody tr th {\n",
       "        vertical-align: top;\n",
       "    }\n",
       "\n",
       "    .dataframe thead th {\n",
       "        text-align: right;\n",
       "    }\n",
       "</style>\n",
       "<table border=\"1\" class=\"dataframe\">\n",
       "  <thead>\n",
       "    <tr style=\"text-align: right;\">\n",
       "      <th></th>\n",
       "      <th>emotion</th>\n",
       "      <th>comment_count</th>\n",
       "      <th>comment_percentage</th>\n",
       "    </tr>\n",
       "  </thead>\n",
       "  <tbody>\n",
       "    <tr>\n",
       "      <th>0</th>\n",
       "      <td>fear</td>\n",
       "      <td>8433</td>\n",
       "      <td>58.43</td>\n",
       "    </tr>\n",
       "    <tr>\n",
       "      <th>1</th>\n",
       "      <td>joy</td>\n",
       "      <td>4939</td>\n",
       "      <td>34.22</td>\n",
       "    </tr>\n",
       "    <tr>\n",
       "      <th>2</th>\n",
       "      <td>sadness</td>\n",
       "      <td>191</td>\n",
       "      <td>1.32</td>\n",
       "    </tr>\n",
       "    <tr>\n",
       "      <th>3</th>\n",
       "      <td>surprise</td>\n",
       "      <td>869</td>\n",
       "      <td>6.02</td>\n",
       "    </tr>\n",
       "  </tbody>\n",
       "</table>\n",
       "</div>"
      ],
      "text/plain": [
       "    emotion  comment_count  comment_percentage\n",
       "0      fear           8433               58.43\n",
       "1       joy           4939               34.22\n",
       "2   sadness            191                1.32\n",
       "3  surprise            869                6.02"
      ]
     },
     "execution_count": 54,
     "metadata": {},
     "output_type": "execute_result"
    }
   ],
   "source": [
    "pfizer_biontech_size['comment_percentage'] = pfizer_biontech_size['comment_count'].apply(lambda x: round(x / pfizer_biontech.shape[0],4) * 100)\n",
    "pfizer_biontech_size"
   ]
  },
  {
   "cell_type": "code",
   "execution_count": 55,
   "metadata": {},
   "outputs": [
    {
     "data": {
      "text/plain": [
       "Text(0, 0.5, 'Biontech Aşısı ile ilgili Duygu Yüzdeleri')"
      ]
     },
     "execution_count": 55,
     "metadata": {},
     "output_type": "execute_result"
    },
    {
     "data": {
      "image/png": "[encoded data removed]",
      "text/plain": [
       "<Figure size 432x288 with 1 Axes>"
      ]
     },
     "metadata": {},
     "output_type": "display_data"
    }
   ],
   "source": [
    "sns.set_theme(style=\"whitegrid\")\n",
    "ax = sns.barplot(x=\"emotion\", y=\"comment_percentage\", data=pfizer_biontech_size)\n",
    "ax.set_xlabel(\"Biontech Aşısı ile ilgili Duygular\")\n",
    "ax.set_ylabel(\"Biontech Aşısı ile ilgili Duygu Yüzdeleri\")"
   ]
  },
  {
   "cell_type": "code",
   "execution_count": 56,
   "metadata": {},
   "outputs": [
    {
     "data": {
      "text/html": [
       "<div>\n",
       "<style scoped>\n",
       "    .dataframe tbody tr th:only-of-type {\n",
       "        vertical-align: middle;\n",
       "    }\n",
       "\n",
       "    .dataframe tbody tr th {\n",
       "        vertical-align: top;\n",
       "    }\n",
       "\n",
       "    .dataframe thead th {\n",
       "        text-align: right;\n",
       "    }\n",
       "</style>\n",
       "<table border=\"1\" class=\"dataframe\">\n",
       "  <thead>\n",
       "    <tr style=\"text-align: right;\">\n",
       "      <th></th>\n",
       "      <th>emotion</th>\n",
       "      <th>comment_count</th>\n",
       "      <th>comment_percentage</th>\n",
       "    </tr>\n",
       "  </thead>\n",
       "  <tbody>\n",
       "    <tr>\n",
       "      <th>0</th>\n",
       "      <td>fear</td>\n",
       "      <td>162</td>\n",
       "      <td>78.26</td>\n",
       "    </tr>\n",
       "    <tr>\n",
       "      <th>1</th>\n",
       "      <td>joy</td>\n",
       "      <td>28</td>\n",
       "      <td>13.53</td>\n",
       "    </tr>\n",
       "    <tr>\n",
       "      <th>2</th>\n",
       "      <td>sadness</td>\n",
       "      <td>8</td>\n",
       "      <td>3.86</td>\n",
       "    </tr>\n",
       "    <tr>\n",
       "      <th>3</th>\n",
       "      <td>surprise</td>\n",
       "      <td>9</td>\n",
       "      <td>4.35</td>\n",
       "    </tr>\n",
       "  </tbody>\n",
       "</table>\n",
       "</div>"
      ],
      "text/plain": [
       "    emotion  comment_count  comment_percentage\n",
       "0      fear            162               78.26\n",
       "1       joy             28               13.53\n",
       "2   sadness              8                3.86\n",
       "3  surprise              9                4.35"
      ]
     },
     "execution_count": 56,
     "metadata": {},
     "output_type": "execute_result"
    }
   ],
   "source": [
    "sinovac_coronavac_size['comment_percentage'] = sinovac_coronavac_size['comment_count'].apply(lambda x: round(x / sinovac_coronavac.shape[0],4) * 100)\n",
    "sinovac_coronavac_size"
   ]
  },
  {
   "cell_type": "code",
   "execution_count": 57,
   "metadata": {},
   "outputs": [
    {
     "data": {
      "text/plain": [
       "Text(0, 0.5, 'Sinovac Aşısı ile ilgili Duygu Yüzdeleri')"
      ]
     },
     "execution_count": 57,
     "metadata": {},
     "output_type": "execute_result"
    },
    {
     "data": {
      "image/png": "[encoded data removed]",
      "text/plain": [
       "<Figure size 432x288 with 1 Axes>"
      ]
     },
     "metadata": {},
     "output_type": "display_data"
    }
   ],
   "source": [
    "sns.set_theme(style=\"whitegrid\")\n",
    "ax = sns.barplot(x=\"emotion\", y=\"comment_percentage\", data=sinovac_coronavac_size)\n",
    "ax.set_xlabel(\"Sinovac Aşısı ile ilgili Duygular\")\n",
    "ax.set_ylabel(\"Sinovac Aşısı ile ilgili Duygu Yüzdeleri\")"
   ]
  },
  {
   "cell_type": "code",
   "execution_count": 58,
   "metadata": {},
   "outputs": [
    {
     "data": {
      "text/html": [
       "<div>\n",
       "<style scoped>\n",
       "    .dataframe tbody tr th:only-of-type {\n",
       "        vertical-align: middle;\n",
       "    }\n",
       "\n",
       "    .dataframe tbody tr th {\n",
       "        vertical-align: top;\n",
       "    }\n",
       "\n",
       "    .dataframe thead th {\n",
       "        text-align: right;\n",
       "    }\n",
       "</style>\n",
       "<table border=\"1\" class=\"dataframe\">\n",
       "  <thead>\n",
       "    <tr style=\"text-align: right;\">\n",
       "      <th></th>\n",
       "      <th>emotion</th>\n",
       "      <th>comment_count</th>\n",
       "      <th>comment_percentage</th>\n",
       "    </tr>\n",
       "  </thead>\n",
       "  <tbody>\n",
       "    <tr>\n",
       "      <th>0</th>\n",
       "      <td>fear</td>\n",
       "      <td>4673</td>\n",
       "      <td>49.07</td>\n",
       "    </tr>\n",
       "    <tr>\n",
       "      <th>1</th>\n",
       "      <td>joy</td>\n",
       "      <td>3791</td>\n",
       "      <td>39.80</td>\n",
       "    </tr>\n",
       "    <tr>\n",
       "      <th>2</th>\n",
       "      <td>sadness</td>\n",
       "      <td>436</td>\n",
       "      <td>4.58</td>\n",
       "    </tr>\n",
       "    <tr>\n",
       "      <th>3</th>\n",
       "      <td>surprise</td>\n",
       "      <td>624</td>\n",
       "      <td>6.55</td>\n",
       "    </tr>\n",
       "  </tbody>\n",
       "</table>\n",
       "</div>"
      ],
      "text/plain": [
       "    emotion  comment_count  comment_percentage\n",
       "0      fear           4673               49.07\n",
       "1       joy           3791               39.80\n",
       "2   sadness            436                4.58\n",
       "3  surprise            624                6.55"
      ]
     },
     "execution_count": 58,
     "metadata": {},
     "output_type": "execute_result"
    }
   ],
   "source": [
    "moderna_size['comment_percentage'] = moderna_size['comment_count'].apply(lambda x: round(x / moderna.shape[0],4) * 100)\n",
    "moderna_size"
   ]
  },
  {
   "cell_type": "code",
   "execution_count": 60,
   "metadata": {},
   "outputs": [
    {
     "data": {
      "text/plain": [
       "Text(0, 0.5, 'Moderna Aşısı ile ilgili Duygu Yüzdeleri')"
      ]
     },
     "execution_count": 60,
     "metadata": {},
     "output_type": "execute_result"
    },
    {
     "data": {
      "image/png": "[encoded data removed]",
      "text/plain": [
       "<Figure size 432x288 with 1 Axes>"
      ]
     },
     "metadata": {},
     "output_type": "display_data"
    }
   ],
   "source": [
    "sns.set_theme(style=\"whitegrid\")\n",
    "ax = sns.barplot(x=\"emotion\", y=\"comment_percentage\", data=moderna_size)\n",
    "ax.set_xlabel(\"Moderna Aşısı ile ilgili Duygular\")\n",
    "ax.set_ylabel(\"Moderna Aşısı ile ilgili Duygu Yüzdeleri\")"
   ]
  },
  {
   "cell_type": "code",
   "execution_count": 79,
   "metadata": {},
   "outputs": [
    {
     "data": {
      "text/html": [
       "<style type=\"text/css\">\n",
       "#T_bb279_row0_col0, #T_bb279_row2_col0, #T_bb279_row3_col0, #T_bb279_row4_col0, #T_bb279_row5_col0, #T_bb279_row7_col0, #T_bb279_row10_col0 {\n",
       "  background-color: #21918c;\n",
       "  color: #f1f1f1;\n",
       "  font-size: 16px;\n",
       "}\n",
       "#T_bb279_row0_col1, #T_bb279_row2_col2, #T_bb279_row4_col1, #T_bb279_row5_col1, #T_bb279_row6_col1, #T_bb279_row6_col2, #T_bb279_row7_col1, #T_bb279_row11_col2 {\n",
       "  background-color: #35b779;\n",
       "  color: #f1f1f1;\n",
       "  font-size: 16px;\n",
       "}\n",
       "#T_bb279_row0_col2, #T_bb279_row1_col1, #T_bb279_row1_col2, #T_bb279_row2_col1, #T_bb279_row4_col2, #T_bb279_row5_col2, #T_bb279_row7_col2, #T_bb279_row8_col1, #T_bb279_row8_col2, #T_bb279_row9_col1 {\n",
       "  background-color: #31688e;\n",
       "  color: #f1f1f1;\n",
       "  font-size: 16px;\n",
       "}\n",
       "#T_bb279_row1_col0, #T_bb279_row3_col1, #T_bb279_row8_col0, #T_bb279_row9_col2, #T_bb279_row10_col2, #T_bb279_row11_col0 {\n",
       "  background-color: #fde725;\n",
       "  color: #000000;\n",
       "  font-size: 16px;\n",
       "}\n",
       "#T_bb279_row3_col2, #T_bb279_row6_col0, #T_bb279_row9_col0, #T_bb279_row10_col1, #T_bb279_row11_col1 {\n",
       "  background-color: #440154;\n",
       "  color: #f1f1f1;\n",
       "  font-size: 16px;\n",
       "}\n",
       "</style>\n",
       "<table id=\"T_bb279\">\n",
       "  <thead>\n",
       "    <tr>\n",
       "      <th class=\"blank level0\" >&nbsp;</th>\n",
       "      <th id=\"T_bb279_level0_col0\" class=\"col_heading level0 col0\" >negative</th>\n",
       "      <th id=\"T_bb279_level0_col1\" class=\"col_heading level0 col1\" >neutral</th>\n",
       "      <th id=\"T_bb279_level0_col2\" class=\"col_heading level0 col2\" >positive</th>\n",
       "    </tr>\n",
       "  </thead>\n",
       "  <tbody>\n",
       "    <tr>\n",
       "      <th id=\"T_bb279_level0_row0\" class=\"row_heading level0 row0\" >Ocak</th>\n",
       "      <td id=\"T_bb279_row0_col0\" class=\"data row0 col0\" >39.000000</td>\n",
       "      <td id=\"T_bb279_row0_col1\" class=\"data row0 col1\" >24.000000</td>\n",
       "      <td id=\"T_bb279_row0_col2\" class=\"data row0 col2\" >37.000000</td>\n",
       "    </tr>\n",
       "    <tr>\n",
       "      <th id=\"T_bb279_level0_row1\" class=\"row_heading level0 row1\" >Şubat</th>\n",
       "      <td id=\"T_bb279_row1_col0\" class=\"data row1 col0\" >40.000000</td>\n",
       "      <td id=\"T_bb279_row1_col1\" class=\"data row1 col1\" >23.000000</td>\n",
       "      <td id=\"T_bb279_row1_col2\" class=\"data row1 col2\" >37.000000</td>\n",
       "    </tr>\n",
       "    <tr>\n",
       "      <th id=\"T_bb279_level0_row2\" class=\"row_heading level0 row2\" >Mart</th>\n",
       "      <td id=\"T_bb279_row2_col0\" class=\"data row2 col0\" >39.000000</td>\n",
       "      <td id=\"T_bb279_row2_col1\" class=\"data row2 col1\" >23.000000</td>\n",
       "      <td id=\"T_bb279_row2_col2\" class=\"data row2 col2\" >38.000000</td>\n",
       "    </tr>\n",
       "    <tr>\n",
       "      <th id=\"T_bb279_level0_row3\" class=\"row_heading level0 row3\" >Nisan</th>\n",
       "      <td id=\"T_bb279_row3_col0\" class=\"data row3 col0\" >39.000000</td>\n",
       "      <td id=\"T_bb279_row3_col1\" class=\"data row3 col1\" >25.000000</td>\n",
       "      <td id=\"T_bb279_row3_col2\" class=\"data row3 col2\" >36.000000</td>\n",
       "    </tr>\n",
       "    <tr>\n",
       "      <th id=\"T_bb279_level0_row4\" class=\"row_heading level0 row4\" >Mayıs</th>\n",
       "      <td id=\"T_bb279_row4_col0\" class=\"data row4 col0\" >39.000000</td>\n",
       "      <td id=\"T_bb279_row4_col1\" class=\"data row4 col1\" >24.000000</td>\n",
       "      <td id=\"T_bb279_row4_col2\" class=\"data row4 col2\" >37.000000</td>\n",
       "    </tr>\n",
       "    <tr>\n",
       "      <th id=\"T_bb279_level0_row5\" class=\"row_heading level0 row5\" >Haziran</th>\n",
       "      <td id=\"T_bb279_row5_col0\" class=\"data row5 col0\" >39.000000</td>\n",
       "      <td id=\"T_bb279_row5_col1\" class=\"data row5 col1\" >24.000000</td>\n",
       "      <td id=\"T_bb279_row5_col2\" class=\"data row5 col2\" >37.000000</td>\n",
       "    </tr>\n",
       "    <tr>\n",
       "      <th id=\"T_bb279_level0_row6\" class=\"row_heading level0 row6\" >Temmuz</th>\n",
       "      <td id=\"T_bb279_row6_col0\" class=\"data row6 col0\" >38.000000</td>\n",
       "      <td id=\"T_bb279_row6_col1\" class=\"data row6 col1\" >24.000000</td>\n",
       "      <td id=\"T_bb279_row6_col2\" class=\"data row6 col2\" >38.000000</td>\n",
       "    </tr>\n",
       "    <tr>\n",
       "      <th id=\"T_bb279_level0_row7\" class=\"row_heading level0 row7\" >Ağustos</th>\n",
       "      <td id=\"T_bb279_row7_col0\" class=\"data row7 col0\" >39.000000</td>\n",
       "      <td id=\"T_bb279_row7_col1\" class=\"data row7 col1\" >24.000000</td>\n",
       "      <td id=\"T_bb279_row7_col2\" class=\"data row7 col2\" >37.000000</td>\n",
       "    </tr>\n",
       "    <tr>\n",
       "      <th id=\"T_bb279_level0_row8\" class=\"row_heading level0 row8\" >Eylül</th>\n",
       "      <td id=\"T_bb279_row8_col0\" class=\"data row8 col0\" >40.000000</td>\n",
       "      <td id=\"T_bb279_row8_col1\" class=\"data row8 col1\" >23.000000</td>\n",
       "      <td id=\"T_bb279_row8_col2\" class=\"data row8 col2\" >37.000000</td>\n",
       "    </tr>\n",
       "    <tr>\n",
       "      <th id=\"T_bb279_level0_row9\" class=\"row_heading level0 row9\" >Ekim</th>\n",
       "      <td id=\"T_bb279_row9_col0\" class=\"data row9 col0\" >38.000000</td>\n",
       "      <td id=\"T_bb279_row9_col1\" class=\"data row9 col1\" >23.000000</td>\n",
       "      <td id=\"T_bb279_row9_col2\" class=\"data row9 col2\" >39.000000</td>\n",
       "    </tr>\n",
       "    <tr>\n",
       "      <th id=\"T_bb279_level0_row10\" class=\"row_heading level0 row10\" >Kasım</th>\n",
       "      <td id=\"T_bb279_row10_col0\" class=\"data row10 col0\" >39.000000</td>\n",
       "      <td id=\"T_bb279_row10_col1\" class=\"data row10 col1\" >22.000000</td>\n",
       "      <td id=\"T_bb279_row10_col2\" class=\"data row10 col2\" >39.000000</td>\n",
       "    </tr>\n",
       "    <tr>\n",
       "      <th id=\"T_bb279_level0_row11\" class=\"row_heading level0 row11\" >Aralık</th>\n",
       "      <td id=\"T_bb279_row11_col0\" class=\"data row11 col0\" >40.000000</td>\n",
       "      <td id=\"T_bb279_row11_col1\" class=\"data row11 col1\" >22.000000</td>\n",
       "      <td id=\"T_bb279_row11_col2\" class=\"data row11 col2\" >38.000000</td>\n",
       "    </tr>\n",
       "  </tbody>\n",
       "</table>\n"
      ],
      "text/plain": [
       "<pandas.io.formats.style.Styler at 0x2c323db51f0>"
      ]
     },
     "execution_count": 79,
     "metadata": {},
     "output_type": "execute_result"
    }
   ],
   "source": [
    "import dataframe_image as dfi\n",
    "\n",
    "sentiment2020 = ['negative', 'neutral','positive'] \n",
    "  \n",
    "# Defining columns for the dataframe \n",
    "months = ['Ocak','Şubat','Mart','Nisan','Mayıs','Haziran','Temmuz','Ağustos','Eylül','Ekim','Kasım','Aralık']\n",
    "  \n",
    "\n",
    "df = pd.DataFrame([[39.0,24.0,37.0],\n",
    "                   [40.0,23.0,37.0],\n",
    "                   [39.0,23.0,38.0],\n",
    "                   [39.0,25.0,36.0],\n",
    "                   [39.0,24.0,37.0],\n",
    "                   [39.0,24.0,37.0],\n",
    "                   [38.0,24.0,38.0],\n",
    "                   [39.0,24.0,37.0],\n",
    "                   [40.0,23.0,37.0],\n",
    "                   [38.0,23.0,39.0],\n",
    "                   [39.0,22.0,39.0],\n",
    "                   [40.0,22.0,38.0],\n",
    "                   ],columns = sentiment2020, index = months) \n",
    "  \n",
    "df_styled=df.style.background_gradient(cmap ='viridis').set_properties(**{'font-size': '16px'}) \n",
    "dfi.export(df_styled,\"D:/ayhanSelimSoftwareOrganization/ayhanTezRaporu/şekiller/sent_yillik_2020.png\")\n",
    "df_styled"
   ]
  },
  {
   "cell_type": "code",
   "execution_count": 80,
   "metadata": {},
   "outputs": [
    {
     "data": {
      "text/html": [
       "<style type=\"text/css\">\n",
       "#T_a2151_row0_col0 {\n",
       "  background-color: #90d743;\n",
       "  color: #000000;\n",
       "  font-size: 16px;\n",
       "}\n",
       "#T_a2151_row0_col1, #T_a2151_row1_col0, #T_a2151_row2_col0, #T_a2151_row4_col1, #T_a2151_row11_col2 {\n",
       "  background-color: #fde725;\n",
       "  color: #000000;\n",
       "  font-size: 16px;\n",
       "}\n",
       "#T_a2151_row0_col2, #T_a2151_row2_col2, #T_a2151_row9_col0, #T_a2151_row10_col1, #T_a2151_row11_col1 {\n",
       "  background-color: #440154;\n",
       "  color: #f1f1f1;\n",
       "  font-size: 16px;\n",
       "}\n",
       "#T_a2151_row1_col1, #T_a2151_row3_col1, #T_a2151_row4_col0, #T_a2151_row5_col2, #T_a2151_row6_col1, #T_a2151_row9_col1 {\n",
       "  background-color: #21918c;\n",
       "  color: #f1f1f1;\n",
       "  font-size: 16px;\n",
       "}\n",
       "#T_a2151_row1_col2 {\n",
       "  background-color: #472d7b;\n",
       "  color: #f1f1f1;\n",
       "  font-size: 16px;\n",
       "}\n",
       "#T_a2151_row2_col1, #T_a2151_row8_col2 {\n",
       "  background-color: #5ec962;\n",
       "  color: #000000;\n",
       "  font-size: 16px;\n",
       "}\n",
       "#T_a2151_row3_col0, #T_a2151_row5_col0 {\n",
       "  background-color: #35b779;\n",
       "  color: #f1f1f1;\n",
       "  font-size: 16px;\n",
       "}\n",
       "#T_a2151_row3_col2 {\n",
       "  background-color: #2c728e;\n",
       "  color: #f1f1f1;\n",
       "  font-size: 16px;\n",
       "}\n",
       "#T_a2151_row4_col2, #T_a2151_row5_col1, #T_a2151_row7_col1, #T_a2151_row8_col1 {\n",
       "  background-color: #3b528b;\n",
       "  color: #f1f1f1;\n",
       "  font-size: 16px;\n",
       "}\n",
       "#T_a2151_row6_col0, #T_a2151_row8_col0, #T_a2151_row10_col0 {\n",
       "  background-color: #31688e;\n",
       "  color: #f1f1f1;\n",
       "  font-size: 16px;\n",
       "}\n",
       "#T_a2151_row6_col2 {\n",
       "  background-color: #28ae80;\n",
       "  color: #f1f1f1;\n",
       "  font-size: 16px;\n",
       "}\n",
       "#T_a2151_row7_col0, #T_a2151_row11_col0 {\n",
       "  background-color: #443983;\n",
       "  color: #f1f1f1;\n",
       "  font-size: 16px;\n",
       "}\n",
       "#T_a2151_row7_col2, #T_a2151_row9_col2, #T_a2151_row10_col2 {\n",
       "  background-color: #addc30;\n",
       "  color: #000000;\n",
       "  font-size: 16px;\n",
       "}\n",
       "</style>\n",
       "<table id=\"T_a2151\">\n",
       "  <thead>\n",
       "    <tr>\n",
       "      <th class=\"blank level0\" >&nbsp;</th>\n",
       "      <th id=\"T_a2151_level0_col0\" class=\"col_heading level0 col0\" >negative</th>\n",
       "      <th id=\"T_a2151_level0_col1\" class=\"col_heading level0 col1\" >neutral</th>\n",
       "      <th id=\"T_a2151_level0_col2\" class=\"col_heading level0 col2\" >positive</th>\n",
       "    </tr>\n",
       "  </thead>\n",
       "  <tbody>\n",
       "    <tr>\n",
       "      <th id=\"T_a2151_level0_row0\" class=\"row_heading level0 row0\" >Ocak</th>\n",
       "      <td id=\"T_a2151_row0_col0\" class=\"data row0 col0\" >37.000000</td>\n",
       "      <td id=\"T_a2151_row0_col1\" class=\"data row0 col1\" >22.000000</td>\n",
       "      <td id=\"T_a2151_row0_col2\" class=\"data row0 col2\" >41.000000</td>\n",
       "    </tr>\n",
       "    <tr>\n",
       "      <th id=\"T_a2151_level0_row1\" class=\"row_heading level0 row1\" >Şubat</th>\n",
       "      <td id=\"T_a2151_row1_col0\" class=\"data row1 col0\" >38.000000</td>\n",
       "      <td id=\"T_a2151_row1_col1\" class=\"data row1 col1\" >20.000000</td>\n",
       "      <td id=\"T_a2151_row1_col2\" class=\"data row1 col2\" >42.000000</td>\n",
       "    </tr>\n",
       "    <tr>\n",
       "      <th id=\"T_a2151_level0_row2\" class=\"row_heading level0 row2\" >Mart</th>\n",
       "      <td id=\"T_a2151_row2_col0\" class=\"data row2 col0\" >38.000000</td>\n",
       "      <td id=\"T_a2151_row2_col1\" class=\"data row2 col1\" >21.000000</td>\n",
       "      <td id=\"T_a2151_row2_col2\" class=\"data row2 col2\" >41.000000</td>\n",
       "    </tr>\n",
       "    <tr>\n",
       "      <th id=\"T_a2151_level0_row3\" class=\"row_heading level0 row3\" >Nisan</th>\n",
       "      <td id=\"T_a2151_row3_col0\" class=\"data row3 col0\" >36.000000</td>\n",
       "      <td id=\"T_a2151_row3_col1\" class=\"data row3 col1\" >20.000000</td>\n",
       "      <td id=\"T_a2151_row3_col2\" class=\"data row3 col2\" >44.000000</td>\n",
       "    </tr>\n",
       "    <tr>\n",
       "      <th id=\"T_a2151_level0_row4\" class=\"row_heading level0 row4\" >Mayıs</th>\n",
       "      <td id=\"T_a2151_row4_col0\" class=\"data row4 col0\" >35.000000</td>\n",
       "      <td id=\"T_a2151_row4_col1\" class=\"data row4 col1\" >22.000000</td>\n",
       "      <td id=\"T_a2151_row4_col2\" class=\"data row4 col2\" >43.000000</td>\n",
       "    </tr>\n",
       "    <tr>\n",
       "      <th id=\"T_a2151_level0_row5\" class=\"row_heading level0 row5\" >Haziran</th>\n",
       "      <td id=\"T_a2151_row5_col0\" class=\"data row5 col0\" >36.000000</td>\n",
       "      <td id=\"T_a2151_row5_col1\" class=\"data row5 col1\" >19.000000</td>\n",
       "      <td id=\"T_a2151_row5_col2\" class=\"data row5 col2\" >45.000000</td>\n",
       "    </tr>\n",
       "    <tr>\n",
       "      <th id=\"T_a2151_level0_row6\" class=\"row_heading level0 row6\" >Temmuz</th>\n",
       "      <td id=\"T_a2151_row6_col0\" class=\"data row6 col0\" >34.000000</td>\n",
       "      <td id=\"T_a2151_row6_col1\" class=\"data row6 col1\" >20.000000</td>\n",
       "      <td id=\"T_a2151_row6_col2\" class=\"data row6 col2\" >46.000000</td>\n",
       "    </tr>\n",
       "    <tr>\n",
       "      <th id=\"T_a2151_level0_row7\" class=\"row_heading level0 row7\" >Ağustos</th>\n",
       "      <td id=\"T_a2151_row7_col0\" class=\"data row7 col0\" >33.000000</td>\n",
       "      <td id=\"T_a2151_row7_col1\" class=\"data row7 col1\" >19.000000</td>\n",
       "      <td id=\"T_a2151_row7_col2\" class=\"data row7 col2\" >48.000000</td>\n",
       "    </tr>\n",
       "    <tr>\n",
       "      <th id=\"T_a2151_level0_row8\" class=\"row_heading level0 row8\" >Eylül</th>\n",
       "      <td id=\"T_a2151_row8_col0\" class=\"data row8 col0\" >34.000000</td>\n",
       "      <td id=\"T_a2151_row8_col1\" class=\"data row8 col1\" >19.000000</td>\n",
       "      <td id=\"T_a2151_row8_col2\" class=\"data row8 col2\" >47.000000</td>\n",
       "    </tr>\n",
       "    <tr>\n",
       "      <th id=\"T_a2151_level0_row9\" class=\"row_heading level0 row9\" >Ekim</th>\n",
       "      <td id=\"T_a2151_row9_col0\" class=\"data row9 col0\" >32.000000</td>\n",
       "      <td id=\"T_a2151_row9_col1\" class=\"data row9 col1\" >20.000000</td>\n",
       "      <td id=\"T_a2151_row9_col2\" class=\"data row9 col2\" >48.000000</td>\n",
       "    </tr>\n",
       "    <tr>\n",
       "      <th id=\"T_a2151_level0_row10\" class=\"row_heading level0 row10\" >Kasım</th>\n",
       "      <td id=\"T_a2151_row10_col0\" class=\"data row10 col0\" >34.000000</td>\n",
       "      <td id=\"T_a2151_row10_col1\" class=\"data row10 col1\" >18.000000</td>\n",
       "      <td id=\"T_a2151_row10_col2\" class=\"data row10 col2\" >48.000000</td>\n",
       "    </tr>\n",
       "    <tr>\n",
       "      <th id=\"T_a2151_level0_row11\" class=\"row_heading level0 row11\" >Aralık</th>\n",
       "      <td id=\"T_a2151_row11_col0\" class=\"data row11 col0\" >33.000000</td>\n",
       "      <td id=\"T_a2151_row11_col1\" class=\"data row11 col1\" >18.000000</td>\n",
       "      <td id=\"T_a2151_row11_col2\" class=\"data row11 col2\" >49.000000</td>\n",
       "    </tr>\n",
       "  </tbody>\n",
       "</table>\n"
      ],
      "text/plain": [
       "<pandas.io.formats.style.Styler at 0x2c323dc6700>"
      ]
     },
     "execution_count": 80,
     "metadata": {},
     "output_type": "execute_result"
    }
   ],
   "source": [
    "\n",
    "# Defining columns for the dataframe \n",
    "sentiment2021 = ['negative', 'neutral','positive'] \n",
    "months = ['Ocak','Şubat','Mart','Nisan','Mayıs','Haziran','Temmuz','Ağustos','Eylül','Ekim','Kasım','Aralık']\n",
    "  \n",
    "\n",
    "df = pd.DataFrame([[37.0,22.0,41.0],\n",
    "                   [38.0,20.0,42.0],\n",
    "                   [38.0,21.0,41.0],\n",
    "                   [36.0,20.0,44.0],\n",
    "                   [35.0,22.0,43.0],\n",
    "                   [36.0,19.0,45.0],\n",
    "                   [34.0,20.0,46.0],\n",
    "                   [33.0,19.0,48.0],\n",
    "                   [34.0,19.0,47.0],\n",
    "                   [32.0,20.0,48.0],\n",
    "                   [34.0,18.0,48.0],\n",
    "                   [33.0,18.0,49.0],\n",
    "                   ],columns = sentiment2021, index = months) \n",
    "  \n",
    "df_styled=df.style.background_gradient(cmap ='viridis').set_properties(**{'font-size': '16px'}) \n",
    "dfi.export(df_styled,\"D:/ayhanSelimSoftwareOrganization/ayhanTezRaporu/şekiller/sent_yillik_2021.png\")\n",
    "df_styled"
   ]
  },
  {
   "cell_type": "code",
   "execution_count": 81,
   "metadata": {},
   "outputs": [
    {
     "data": {
      "text/html": [
       "<style type=\"text/css\">\n",
       "#T_b31ce_row0_col0, #T_b31ce_row5_col0, #T_b31ce_row10_col2 {\n",
       "  background-color: #3b528b;\n",
       "  color: #f1f1f1;\n",
       "  font-size: 16px;\n",
       "}\n",
       "#T_b31ce_row0_col1, #T_b31ce_row1_col1, #T_b31ce_row2_col1, #T_b31ce_row8_col1, #T_b31ce_row10_col1 {\n",
       "  background-color: #2a788e;\n",
       "  color: #f1f1f1;\n",
       "  font-size: 16px;\n",
       "}\n",
       "#T_b31ce_row0_col2, #T_b31ce_row1_col2, #T_b31ce_row4_col2, #T_b31ce_row5_col2, #T_b31ce_row6_col2, #T_b31ce_row9_col1, #T_b31ce_row9_col3, #T_b31ce_row11_col0 {\n",
       "  background-color: #fde725;\n",
       "  color: #000000;\n",
       "  font-size: 16px;\n",
       "}\n",
       "#T_b31ce_row0_col3, #T_b31ce_row4_col3, #T_b31ce_row5_col3, #T_b31ce_row6_col3, #T_b31ce_row7_col3, #T_b31ce_row8_col3 {\n",
       "  background-color: #35b779;\n",
       "  color: #f1f1f1;\n",
       "  font-size: 16px;\n",
       "}\n",
       "#T_b31ce_row1_col0, #T_b31ce_row8_col0 {\n",
       "  background-color: #2c728e;\n",
       "  color: #f1f1f1;\n",
       "  font-size: 16px;\n",
       "}\n",
       "#T_b31ce_row1_col3, #T_b31ce_row2_col3, #T_b31ce_row3_col3 {\n",
       "  background-color: #31688e;\n",
       "  color: #f1f1f1;\n",
       "  font-size: 16px;\n",
       "}\n",
       "#T_b31ce_row2_col0, #T_b31ce_row4_col0, #T_b31ce_row6_col0, #T_b31ce_row7_col0, #T_b31ce_row8_col2, #T_b31ce_row9_col2 {\n",
       "  background-color: #21918c;\n",
       "  color: #f1f1f1;\n",
       "  font-size: 16px;\n",
       "}\n",
       "#T_b31ce_row2_col2, #T_b31ce_row3_col2, #T_b31ce_row7_col2 {\n",
       "  background-color: #5ec962;\n",
       "  color: #000000;\n",
       "  font-size: 16px;\n",
       "}\n",
       "#T_b31ce_row3_col0 {\n",
       "  background-color: #28ae80;\n",
       "  color: #f1f1f1;\n",
       "  font-size: 16px;\n",
       "}\n",
       "#T_b31ce_row3_col1, #T_b31ce_row4_col1, #T_b31ce_row9_col0, #T_b31ce_row10_col3, #T_b31ce_row11_col2, #T_b31ce_row11_col3 {\n",
       "  background-color: #440154;\n",
       "  color: #f1f1f1;\n",
       "  font-size: 16px;\n",
       "}\n",
       "#T_b31ce_row5_col1, #T_b31ce_row6_col1, #T_b31ce_row7_col1, #T_b31ce_row11_col1 {\n",
       "  background-color: #414487;\n",
       "  color: #f1f1f1;\n",
       "  font-size: 16px;\n",
       "}\n",
       "#T_b31ce_row10_col0 {\n",
       "  background-color: #addc30;\n",
       "  color: #000000;\n",
       "  font-size: 16px;\n",
       "}\n",
       "</style>\n",
       "<table id=\"T_b31ce\">\n",
       "  <thead>\n",
       "    <tr>\n",
       "      <th class=\"blank level0\" >&nbsp;</th>\n",
       "      <th id=\"T_b31ce_level0_col0\" class=\"col_heading level0 col0\" >fear</th>\n",
       "      <th id=\"T_b31ce_level0_col1\" class=\"col_heading level0 col1\" >joy</th>\n",
       "      <th id=\"T_b31ce_level0_col2\" class=\"col_heading level0 col2\" >sadness</th>\n",
       "      <th id=\"T_b31ce_level0_col3\" class=\"col_heading level0 col3\" >surprise</th>\n",
       "    </tr>\n",
       "  </thead>\n",
       "  <tbody>\n",
       "    <tr>\n",
       "      <th id=\"T_b31ce_level0_row0\" class=\"row_heading level0 row0\" >Ocak</th>\n",
       "      <td id=\"T_b31ce_row0_col0\" class=\"data row0 col0\" >50.000000</td>\n",
       "      <td id=\"T_b31ce_row0_col1\" class=\"data row0 col1\" >13.000000</td>\n",
       "      <td id=\"T_b31ce_row0_col2\" class=\"data row0 col2\" >19.000000</td>\n",
       "      <td id=\"T_b31ce_row0_col3\" class=\"data row0 col3\" >18.000000</td>\n",
       "    </tr>\n",
       "    <tr>\n",
       "      <th id=\"T_b31ce_level0_row1\" class=\"row_heading level0 row1\" >Şubat</th>\n",
       "      <td id=\"T_b31ce_row1_col0\" class=\"data row1 col0\" >51.000000</td>\n",
       "      <td id=\"T_b31ce_row1_col1\" class=\"data row1 col1\" >13.000000</td>\n",
       "      <td id=\"T_b31ce_row1_col2\" class=\"data row1 col2\" >19.000000</td>\n",
       "      <td id=\"T_b31ce_row1_col3\" class=\"data row1 col3\" >17.000000</td>\n",
       "    </tr>\n",
       "    <tr>\n",
       "      <th id=\"T_b31ce_level0_row2\" class=\"row_heading level0 row2\" >Mart</th>\n",
       "      <td id=\"T_b31ce_row2_col0\" class=\"data row2 col0\" >52.000000</td>\n",
       "      <td id=\"T_b31ce_row2_col1\" class=\"data row2 col1\" >13.000000</td>\n",
       "      <td id=\"T_b31ce_row2_col2\" class=\"data row2 col2\" >18.000000</td>\n",
       "      <td id=\"T_b31ce_row2_col3\" class=\"data row2 col3\" >17.000000</td>\n",
       "    </tr>\n",
       "    <tr>\n",
       "      <th id=\"T_b31ce_level0_row3\" class=\"row_heading level0 row3\" >Nisan</th>\n",
       "      <td id=\"T_b31ce_row3_col0\" class=\"data row3 col0\" >53.000000</td>\n",
       "      <td id=\"T_b31ce_row3_col1\" class=\"data row3 col1\" >11.000000</td>\n",
       "      <td id=\"T_b31ce_row3_col2\" class=\"data row3 col2\" >18.000000</td>\n",
       "      <td id=\"T_b31ce_row3_col3\" class=\"data row3 col3\" >17.000000</td>\n",
       "    </tr>\n",
       "    <tr>\n",
       "      <th id=\"T_b31ce_level0_row4\" class=\"row_heading level0 row4\" >Mayıs</th>\n",
       "      <td id=\"T_b31ce_row4_col0\" class=\"data row4 col0\" >52.000000</td>\n",
       "      <td id=\"T_b31ce_row4_col1\" class=\"data row4 col1\" >11.000000</td>\n",
       "      <td id=\"T_b31ce_row4_col2\" class=\"data row4 col2\" >19.000000</td>\n",
       "      <td id=\"T_b31ce_row4_col3\" class=\"data row4 col3\" >18.000000</td>\n",
       "    </tr>\n",
       "    <tr>\n",
       "      <th id=\"T_b31ce_level0_row5\" class=\"row_heading level0 row5\" >Haziran</th>\n",
       "      <td id=\"T_b31ce_row5_col0\" class=\"data row5 col0\" >50.000000</td>\n",
       "      <td id=\"T_b31ce_row5_col1\" class=\"data row5 col1\" >12.000000</td>\n",
       "      <td id=\"T_b31ce_row5_col2\" class=\"data row5 col2\" >19.000000</td>\n",
       "      <td id=\"T_b31ce_row5_col3\" class=\"data row5 col3\" >18.000000</td>\n",
       "    </tr>\n",
       "    <tr>\n",
       "      <th id=\"T_b31ce_level0_row6\" class=\"row_heading level0 row6\" >Temmuz</th>\n",
       "      <td id=\"T_b31ce_row6_col0\" class=\"data row6 col0\" >52.000000</td>\n",
       "      <td id=\"T_b31ce_row6_col1\" class=\"data row6 col1\" >12.000000</td>\n",
       "      <td id=\"T_b31ce_row6_col2\" class=\"data row6 col2\" >19.000000</td>\n",
       "      <td id=\"T_b31ce_row6_col3\" class=\"data row6 col3\" >18.000000</td>\n",
       "    </tr>\n",
       "    <tr>\n",
       "      <th id=\"T_b31ce_level0_row7\" class=\"row_heading level0 row7\" >Ağustos</th>\n",
       "      <td id=\"T_b31ce_row7_col0\" class=\"data row7 col0\" >52.000000</td>\n",
       "      <td id=\"T_b31ce_row7_col1\" class=\"data row7 col1\" >12.000000</td>\n",
       "      <td id=\"T_b31ce_row7_col2\" class=\"data row7 col2\" >18.000000</td>\n",
       "      <td id=\"T_b31ce_row7_col3\" class=\"data row7 col3\" >18.000000</td>\n",
       "    </tr>\n",
       "    <tr>\n",
       "      <th id=\"T_b31ce_level0_row8\" class=\"row_heading level0 row8\" >Eylül</th>\n",
       "      <td id=\"T_b31ce_row8_col0\" class=\"data row8 col0\" >51.000000</td>\n",
       "      <td id=\"T_b31ce_row8_col1\" class=\"data row8 col1\" >13.000000</td>\n",
       "      <td id=\"T_b31ce_row8_col2\" class=\"data row8 col2\" >17.000000</td>\n",
       "      <td id=\"T_b31ce_row8_col3\" class=\"data row8 col3\" >18.000000</td>\n",
       "    </tr>\n",
       "    <tr>\n",
       "      <th id=\"T_b31ce_level0_row9\" class=\"row_heading level0 row9\" >Ekim</th>\n",
       "      <td id=\"T_b31ce_row9_col0\" class=\"data row9 col0\" >48.000000</td>\n",
       "      <td id=\"T_b31ce_row9_col1\" class=\"data row9 col1\" >16.000000</td>\n",
       "      <td id=\"T_b31ce_row9_col2\" class=\"data row9 col2\" >17.000000</td>\n",
       "      <td id=\"T_b31ce_row9_col3\" class=\"data row9 col3\" >19.000000</td>\n",
       "    </tr>\n",
       "    <tr>\n",
       "      <th id=\"T_b31ce_level0_row10\" class=\"row_heading level0 row10\" >Kasım</th>\n",
       "      <td id=\"T_b31ce_row10_col0\" class=\"data row10 col0\" >55.000000</td>\n",
       "      <td id=\"T_b31ce_row10_col1\" class=\"data row10 col1\" >13.000000</td>\n",
       "      <td id=\"T_b31ce_row10_col2\" class=\"data row10 col2\" >16.000000</td>\n",
       "      <td id=\"T_b31ce_row10_col3\" class=\"data row10 col3\" >16.000000</td>\n",
       "    </tr>\n",
       "    <tr>\n",
       "      <th id=\"T_b31ce_level0_row11\" class=\"row_heading level0 row11\" >Aralık</th>\n",
       "      <td id=\"T_b31ce_row11_col0\" class=\"data row11 col0\" >56.000000</td>\n",
       "      <td id=\"T_b31ce_row11_col1\" class=\"data row11 col1\" >12.000000</td>\n",
       "      <td id=\"T_b31ce_row11_col2\" class=\"data row11 col2\" >15.000000</td>\n",
       "      <td id=\"T_b31ce_row11_col3\" class=\"data row11 col3\" >16.000000</td>\n",
       "    </tr>\n",
       "  </tbody>\n",
       "</table>\n"
      ],
      "text/plain": [
       "<pandas.io.formats.style.Styler at 0x2c323db5970>"
      ]
     },
     "execution_count": 81,
     "metadata": {},
     "output_type": "execute_result"
    }
   ],
   "source": [
    "\n",
    "# Defining columns for the dataframe \n",
    "emotion2020 = ['fear', 'joy','sadness','surprise'] \n",
    "months = ['Ocak','Şubat','Mart','Nisan','Mayıs','Haziran','Temmuz','Ağustos','Eylül','Ekim','Kasım','Aralık']\n",
    "  \n",
    "\n",
    "df = pd.DataFrame([[50.0,13.0,19.0,18.0],\n",
    "                   [51.0,13.0,19.0,17.0],\n",
    "                   [52.0,13.0,18.0,17.0],\n",
    "                   [53.0,11.0,18.0,17.0],\n",
    "                   [52.0,11.0,19.0,18.0],\n",
    "                   [50.0,12.0,19.0,18.0],\n",
    "                   [52.0,12.0,19.0,18.0],\n",
    "                   [52.0,12.0,18.0,18.0],\n",
    "                   [51.0,13.0,17.0,18.0],\n",
    "                   [48.0,16.0,17.0,19.0],\n",
    "                   [55.0,13.0,16.0,16.0],\n",
    "                   [56.0,12.0,15.0,16.0],\n",
    "                   ],columns = emotion2020, index = months) \n",
    "  \n",
    "df_styled=df.style.background_gradient(cmap ='viridis').set_properties(**{'font-size': '16px'}) \n",
    "dfi.export(df_styled,\"D:/ayhanSelimSoftwareOrganization/ayhanTezRaporu/şekiller/emo_yillik_2020.png\")\n",
    "df_styled"
   ]
  },
  {
   "cell_type": "code",
   "execution_count": 82,
   "metadata": {},
   "outputs": [
    {
     "data": {
      "text/html": [
       "<style type=\"text/css\">\n",
       "#T_373a3_row0_col0, #T_373a3_row0_col2, #T_373a3_row1_col0, #T_373a3_row1_col2, #T_373a3_row3_col0, #T_373a3_row4_col3, #T_373a3_row6_col3, #T_373a3_row7_col3, #T_373a3_row8_col3, #T_373a3_row11_col1 {\n",
       "  background-color: #fde725;\n",
       "  color: #000000;\n",
       "  font-size: 16px;\n",
       "}\n",
       "#T_373a3_row0_col1, #T_373a3_row2_col1 {\n",
       "  background-color: #443983;\n",
       "  color: #f1f1f1;\n",
       "  font-size: 16px;\n",
       "}\n",
       "#T_373a3_row0_col3, #T_373a3_row6_col1, #T_373a3_row7_col1, #T_373a3_row10_col3 {\n",
       "  background-color: #31688e;\n",
       "  color: #f1f1f1;\n",
       "  font-size: 16px;\n",
       "}\n",
       "#T_373a3_row1_col1, #T_373a3_row2_col2, #T_373a3_row2_col3, #T_373a3_row5_col1, #T_373a3_row9_col2, #T_373a3_row11_col2 {\n",
       "  background-color: #21918c;\n",
       "  color: #f1f1f1;\n",
       "  font-size: 16px;\n",
       "}\n",
       "#T_373a3_row1_col3, #T_373a3_row3_col3, #T_373a3_row4_col1, #T_373a3_row7_col2, #T_373a3_row11_col0 {\n",
       "  background-color: #440154;\n",
       "  color: #f1f1f1;\n",
       "  font-size: 16px;\n",
       "}\n",
       "#T_373a3_row2_col0, #T_373a3_row7_col0, #T_373a3_row10_col0 {\n",
       "  background-color: #7ad151;\n",
       "  color: #000000;\n",
       "  font-size: 16px;\n",
       "}\n",
       "#T_373a3_row3_col1, #T_373a3_row8_col1, #T_373a3_row9_col1, #T_373a3_row9_col3, #T_373a3_row11_col3 {\n",
       "  background-color: #35b779;\n",
       "  color: #f1f1f1;\n",
       "  font-size: 16px;\n",
       "}\n",
       "#T_373a3_row3_col2, #T_373a3_row4_col2 {\n",
       "  background-color: #5ec962;\n",
       "  color: #000000;\n",
       "  font-size: 16px;\n",
       "}\n",
       "#T_373a3_row4_col0, #T_373a3_row5_col0 {\n",
       "  background-color: #22a884;\n",
       "  color: #f1f1f1;\n",
       "  font-size: 16px;\n",
       "}\n",
       "#T_373a3_row5_col2, #T_373a3_row6_col2, #T_373a3_row8_col2, #T_373a3_row10_col2 {\n",
       "  background-color: #3b528b;\n",
       "  color: #f1f1f1;\n",
       "  font-size: 16px;\n",
       "}\n",
       "#T_373a3_row5_col3, #T_373a3_row10_col1 {\n",
       "  background-color: #90d743;\n",
       "  color: #000000;\n",
       "  font-size: 16px;\n",
       "}\n",
       "#T_373a3_row6_col0, #T_373a3_row9_col0 {\n",
       "  background-color: #2a788e;\n",
       "  color: #f1f1f1;\n",
       "  font-size: 16px;\n",
       "}\n",
       "#T_373a3_row8_col0 {\n",
       "  background-color: #414487;\n",
       "  color: #f1f1f1;\n",
       "  font-size: 16px;\n",
       "}\n",
       "</style>\n",
       "<table id=\"T_373a3\">\n",
       "  <thead>\n",
       "    <tr>\n",
       "      <th class=\"blank level0\" >&nbsp;</th>\n",
       "      <th id=\"T_373a3_level0_col0\" class=\"col_heading level0 col0\" >fear</th>\n",
       "      <th id=\"T_373a3_level0_col1\" class=\"col_heading level0 col1\" >joy</th>\n",
       "      <th id=\"T_373a3_level0_col2\" class=\"col_heading level0 col2\" >sadness</th>\n",
       "      <th id=\"T_373a3_level0_col3\" class=\"col_heading level0 col3\" >surprise</th>\n",
       "    </tr>\n",
       "  </thead>\n",
       "  <tbody>\n",
       "    <tr>\n",
       "      <th id=\"T_373a3_level0_row0\" class=\"row_heading level0 row0\" >Ocak</th>\n",
       "      <td id=\"T_373a3_row0_col0\" class=\"data row0 col0\" >48.000000</td>\n",
       "      <td id=\"T_373a3_row0_col1\" class=\"data row0 col1\" >16.000000</td>\n",
       "      <td id=\"T_373a3_row0_col2\" class=\"data row0 col2\" >18.000000</td>\n",
       "      <td id=\"T_373a3_row0_col3\" class=\"data row0 col3\" >18.000000</td>\n",
       "    </tr>\n",
       "    <tr>\n",
       "      <th id=\"T_373a3_level0_row1\" class=\"row_heading level0 row1\" >Şubat</th>\n",
       "      <td id=\"T_373a3_row1_col0\" class=\"data row1 col0\" >48.000000</td>\n",
       "      <td id=\"T_373a3_row1_col1\" class=\"data row1 col1\" >18.000000</td>\n",
       "      <td id=\"T_373a3_row1_col2\" class=\"data row1 col2\" >18.000000</td>\n",
       "      <td id=\"T_373a3_row1_col3\" class=\"data row1 col3\" >16.000000</td>\n",
       "    </tr>\n",
       "    <tr>\n",
       "      <th id=\"T_373a3_level0_row2\" class=\"row_heading level0 row2\" >Mart</th>\n",
       "      <td id=\"T_373a3_row2_col0\" class=\"data row2 col0\" >47.000000</td>\n",
       "      <td id=\"T_373a3_row2_col1\" class=\"data row2 col1\" >16.000000</td>\n",
       "      <td id=\"T_373a3_row2_col2\" class=\"data row2 col2\" >16.000000</td>\n",
       "      <td id=\"T_373a3_row2_col3\" class=\"data row2 col3\" >19.000000</td>\n",
       "    </tr>\n",
       "    <tr>\n",
       "      <th id=\"T_373a3_level0_row3\" class=\"row_heading level0 row3\" >Nisan</th>\n",
       "      <td id=\"T_373a3_row3_col0\" class=\"data row3 col0\" >48.000000</td>\n",
       "      <td id=\"T_373a3_row3_col1\" class=\"data row3 col1\" >19.000000</td>\n",
       "      <td id=\"T_373a3_row3_col2\" class=\"data row3 col2\" >17.000000</td>\n",
       "      <td id=\"T_373a3_row3_col3\" class=\"data row3 col3\" >16.000000</td>\n",
       "    </tr>\n",
       "    <tr>\n",
       "      <th id=\"T_373a3_level0_row4\" class=\"row_heading level0 row4\" >Mayıs</th>\n",
       "      <td id=\"T_373a3_row4_col0\" class=\"data row4 col0\" >46.000000</td>\n",
       "      <td id=\"T_373a3_row4_col1\" class=\"data row4 col1\" >15.000000</td>\n",
       "      <td id=\"T_373a3_row4_col2\" class=\"data row4 col2\" >17.000000</td>\n",
       "      <td id=\"T_373a3_row4_col3\" class=\"data row4 col3\" >22.000000</td>\n",
       "    </tr>\n",
       "    <tr>\n",
       "      <th id=\"T_373a3_level0_row5\" class=\"row_heading level0 row5\" >Haziran</th>\n",
       "      <td id=\"T_373a3_row5_col0\" class=\"data row5 col0\" >46.000000</td>\n",
       "      <td id=\"T_373a3_row5_col1\" class=\"data row5 col1\" >18.000000</td>\n",
       "      <td id=\"T_373a3_row5_col2\" class=\"data row5 col2\" >15.000000</td>\n",
       "      <td id=\"T_373a3_row5_col3\" class=\"data row5 col3\" >21.000000</td>\n",
       "    </tr>\n",
       "    <tr>\n",
       "      <th id=\"T_373a3_level0_row6\" class=\"row_heading level0 row6\" >Temmuz</th>\n",
       "      <td id=\"T_373a3_row6_col0\" class=\"data row6 col0\" >45.000000</td>\n",
       "      <td id=\"T_373a3_row6_col1\" class=\"data row6 col1\" >17.000000</td>\n",
       "      <td id=\"T_373a3_row6_col2\" class=\"data row6 col2\" >15.000000</td>\n",
       "      <td id=\"T_373a3_row6_col3\" class=\"data row6 col3\" >22.000000</td>\n",
       "    </tr>\n",
       "    <tr>\n",
       "      <th id=\"T_373a3_level0_row7\" class=\"row_heading level0 row7\" >Ağustos</th>\n",
       "      <td id=\"T_373a3_row7_col0\" class=\"data row7 col0\" >47.000000</td>\n",
       "      <td id=\"T_373a3_row7_col1\" class=\"data row7 col1\" >17.000000</td>\n",
       "      <td id=\"T_373a3_row7_col2\" class=\"data row7 col2\" >14.000000</td>\n",
       "      <td id=\"T_373a3_row7_col3\" class=\"data row7 col3\" >22.000000</td>\n",
       "    </tr>\n",
       "    <tr>\n",
       "      <th id=\"T_373a3_level0_row8\" class=\"row_heading level0 row8\" >Eylül</th>\n",
       "      <td id=\"T_373a3_row8_col0\" class=\"data row8 col0\" >44.000000</td>\n",
       "      <td id=\"T_373a3_row8_col1\" class=\"data row8 col1\" >19.000000</td>\n",
       "      <td id=\"T_373a3_row8_col2\" class=\"data row8 col2\" >15.000000</td>\n",
       "      <td id=\"T_373a3_row8_col3\" class=\"data row8 col3\" >22.000000</td>\n",
       "    </tr>\n",
       "    <tr>\n",
       "      <th id=\"T_373a3_level0_row9\" class=\"row_heading level0 row9\" >Ekim</th>\n",
       "      <td id=\"T_373a3_row9_col0\" class=\"data row9 col0\" >45.000000</td>\n",
       "      <td id=\"T_373a3_row9_col1\" class=\"data row9 col1\" >19.000000</td>\n",
       "      <td id=\"T_373a3_row9_col2\" class=\"data row9 col2\" >16.000000</td>\n",
       "      <td id=\"T_373a3_row9_col3\" class=\"data row9 col3\" >20.000000</td>\n",
       "    </tr>\n",
       "    <tr>\n",
       "      <th id=\"T_373a3_level0_row10\" class=\"row_heading level0 row10\" >Kasım</th>\n",
       "      <td id=\"T_373a3_row10_col0\" class=\"data row10 col0\" >47.000000</td>\n",
       "      <td id=\"T_373a3_row10_col1\" class=\"data row10 col1\" >20.000000</td>\n",
       "      <td id=\"T_373a3_row10_col2\" class=\"data row10 col2\" >15.000000</td>\n",
       "      <td id=\"T_373a3_row10_col3\" class=\"data row10 col3\" >18.000000</td>\n",
       "    </tr>\n",
       "    <tr>\n",
       "      <th id=\"T_373a3_level0_row11\" class=\"row_heading level0 row11\" >Aralık</th>\n",
       "      <td id=\"T_373a3_row11_col0\" class=\"data row11 col0\" >43.000000</td>\n",
       "      <td id=\"T_373a3_row11_col1\" class=\"data row11 col1\" >21.000000</td>\n",
       "      <td id=\"T_373a3_row11_col2\" class=\"data row11 col2\" >16.000000</td>\n",
       "      <td id=\"T_373a3_row11_col3\" class=\"data row11 col3\" >20.000000</td>\n",
       "    </tr>\n",
       "  </tbody>\n",
       "</table>\n"
      ],
      "text/plain": [
       "<pandas.io.formats.style.Styler at 0x2c323dd50d0>"
      ]
     },
     "execution_count": 82,
     "metadata": {},
     "output_type": "execute_result"
    }
   ],
   "source": [
    "\n",
    "# Defining columns for the dataframe \n",
    "emotion2021 = ['fear', 'joy','sadness','surprise'] \n",
    "months = ['Ocak','Şubat','Mart','Nisan','Mayıs','Haziran','Temmuz','Ağustos','Eylül','Ekim','Kasım','Aralık']\n",
    "  \n",
    "\n",
    "df = pd.DataFrame([[48.0,16.0,18.0,18.0],\n",
    "                   [48.0,18.0,18.0,16.0],\n",
    "                   [47.0,16.0,16.0,19.0],\n",
    "                   [48.0,19.0,17.0,16.0],\n",
    "                   [46.0,15.0,17.0,22.0],\n",
    "                   [46.0,18.0,15.0,21.0],\n",
    "                   [45.0,17.0,15.0,22.0],\n",
    "                   [47.0,17.0,14.0,22.0],\n",
    "                   [44.0,19.0,15.0,22.0],\n",
    "                   [45.0,19.0,16.0,20.0],\n",
    "                   [47.0,20.0,15.0,18.0],\n",
    "                   [43.0,21.0,16.0,20.0],\n",
    "                   ],columns = emotion2021, index = months) \n",
    "  \n",
    "df_styled=df.style.background_gradient(cmap ='viridis').set_properties(**{'font-size': '16px'}) \n",
    "dfi.export(df_styled,\"D:/ayhanSelimSoftwareOrganization/ayhanTezRaporu/şekiller/emo_yillik_2021.png\")\n",
    "df_styled"
   ]
  },
  {
   "cell_type": "code",
   "execution_count": 15,
   "metadata": {},
   "outputs": [
    {
     "data": {
      "image/png": "[encoded data removed]",
      "text/plain": [
       "<Figure size 432x288 with 1 Axes>"
      ]
     },
     "metadata": {
      "needs_background": "light"
     },
     "output_type": "display_data"
    }
   ],
   "source": [
    "import matplotlib.pyplot as plt\n",
    "fear2020=[50,51,52,53,52,50,52,52,51,48,55,56]\n",
    "fear2021=[48,48,47,48,46,46,45,47,44,45,47,43]\n",
    "fear2022=[53,51,52,53,52,50,52,52,51,48,55,56]\n",
    "fear2023=[46,48,47,48,46,46,45,47,44,45,47,43]\n",
    "plt.subplot(2,3,1)\n",
    "plt.plot(fear2020,fear2021)\n",
    "plt.subplot(2,3,1)\n",
    "plt.plot(fear2022,fear2023)\n",
    "plt.xlabel(\"2020-2021 arası fear değişiklikleri\")\n",
    "plt.show()"
   ]
  }
 ],
 "metadata": {
  "kernelspec": {
   "display_name": "Python 3.9.0 64-bit",
   "language": "python",
   "name": "python3"
  },
  "language_info": {
   "codemirror_mode": {
    "name": "ipython",
    "version": 3
   },
   "file_extension": ".py",
   "mimetype": "text/x-python",
   "name": "python",
   "nbconvert_exporter": "python",
   "pygments_lexer": "ipython3",
   "version": "3.9.0"
  },
  "orig_nbformat": 4,
  "vscode": {
   "interpreter": {
    "hash": "f9cddbfedf45f285bf8df321d0bcf00a0661227dfa4f1622ea8fea3f62391999"
   }
  }
 },
 "nbformat": 4,
 "nbformat_minor": 2
}
